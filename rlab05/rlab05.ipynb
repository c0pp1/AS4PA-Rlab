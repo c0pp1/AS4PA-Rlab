{
 "cells": [
  {
   "cell_type": "markdown",
   "metadata": {},
   "source": [
    "# R Exercises - part 5\n",
    "- Name: Alberto Coppi\n",
    "- Student ID: 2053063\n",
    "- E-mail: <alberto.coppi@studenti.unipd.it>"
   ]
  },
  {
   "cell_type": "markdown",
   "metadata": {},
   "source": [
    "## Import useful libraries"
   ]
  },
  {
   "cell_type": "code",
   "execution_count": 6,
   "metadata": {
    "vscode": {
     "languageId": "r"
    }
   },
   "outputs": [],
   "source": [
    "library(ggplot2)\n",
    "library(gridExtra)"
   ]
  },
  {
   "cell_type": "markdown",
   "metadata": {},
   "source": [
    "## Ex1 - Radioactive source"
   ]
  },
  {
   "cell_type": "code",
   "execution_count": 7,
   "metadata": {
    "vscode": {
     "languageId": "r"
    }
   },
   "outputs": [],
   "source": [
    "Dt  <- 10\n",
    "obs <- c(4, 1, 3, 1, 3)"
   ]
  },
  {
   "cell_type": "markdown",
   "metadata": {},
   "source": [
    "### a)\n",
    "Assuming a flat prior the posterior of a Poisson process is the Gamma distribution $Gamma(\\mu|\\alpha, \\lambda)$ with $\\alpha=(\\sum_{i=1}^n x_i) +1$ and $\\lambda=n$ where ${x_i}$ is the set of observations and $n$ its magnitude."
   ]
  },
  {
   "cell_type": "code",
   "execution_count": 52,
   "metadata": {
    "vscode": {
     "languageId": "r"
    }
   },
   "outputs": [],
   "source": [
    "u_alpha  <- sum(obs) + 1\n",
    "u_lambda <- length(obs)\n",
    "\n",
    "u_posterior <- function(mu) {dgamma(mu, shape=u_alpha, rate=u_lambda)}"
   ]
  },
  {
   "cell_type": "code",
   "execution_count": 53,
   "metadata": {
    "vscode": {
     "languageId": "r"
    }
   },
   "outputs": [
    {
     "data": {
      "image/png": "[encoded data removed]",
      "text/plain": [
       "plot without title"
      ]
     },
     "metadata": {
      "image/png": {
       "height": 240,
       "width": 240
      }
     },
     "output_type": "display_data"
    }
   ],
   "source": [
    "plot_pdf <- function(pdf, title) {\n",
    "    mus <- seq(0, 10, length.out=201)\n",
    "\n",
    "    options(repr.plot.width=4, repr.plot.height=4)\n",
    "    plt <- ggplot(data.frame(mu=mus, posterior=pdf(mus)), aes(x=mu, y=posterior)) +\n",
    "           geom_path(color='steelblue') +\n",
    "           geom_vline(aes(xintercept=mu[which.max(posterior)]), color='red') +\n",
    "           labs(title=title) +\n",
    "           theme(plot.title=element_text(hjust=0.5))\n",
    "    show(plt)\n",
    "}\n",
    "\n",
    "plot_pdf(u_posterior, 'Posterior of Poisson process\\nwith uniform prior')"
   ]
  },
  {
   "cell_type": "markdown",
   "metadata": {},
   "source": [
    "Now we calculate analitically and numerically the mean, median and variance. As the Gamma distribution has no analitical form to calculate the median, we calculate it using `qgamma`"
   ]
  },
  {
   "cell_type": "code",
   "execution_count": 55,
   "metadata": {
    "vscode": {
     "languageId": "r"
    }
   },
   "outputs": [
    {
     "data": {
      "text/html": [
       "<table class=\"dataframe\">\n",
       "<caption>A data.frame: 2 × 3</caption>\n",
       "<thead>\n",
       "\t<tr><th></th><th scope=col>mean</th><th scope=col>median</th><th scope=col>variance</th></tr>\n",
       "\t<tr><th></th><th scope=col>&lt;dbl&gt;</th><th scope=col>&lt;dbl&gt;</th><th scope=col>&lt;dbl&gt;</th></tr>\n",
       "</thead>\n",
       "<tbody>\n",
       "\t<tr><th scope=row>Analy.</th><td>2.6</td><td>2.533646</td><td>0.52</td></tr>\n",
       "\t<tr><th scope=row>Num.</th><td>2.6</td><td>2.533700</td><td>0.52</td></tr>\n",
       "</tbody>\n",
       "</table>\n"
      ],
      "text/latex": [
       "A data.frame: 2 × 3\n",
       "\\begin{tabular}{r|lll}\n",
       "  & mean & median & variance\\\\\n",
       "  & <dbl> & <dbl> & <dbl>\\\\\n",
       "\\hline\n",
       "\tAnaly. & 2.6 & 2.533646 & 0.52\\\\\n",
       "\tNum. & 2.6 & 2.533700 & 0.52\\\\\n",
       "\\end{tabular}\n"
      ],
      "text/markdown": [
       "\n",
       "A data.frame: 2 × 3\n",
       "\n",
       "| <!--/--> | mean &lt;dbl&gt; | median &lt;dbl&gt; | variance &lt;dbl&gt; |\n",
       "|---|---|---|---|\n",
       "| Analy. | 2.6 | 2.533646 | 0.52 |\n",
       "| Num. | 2.6 | 2.533700 | 0.52 |\n",
       "\n"
      ],
      "text/plain": [
       "       mean median   variance\n",
       "Analy. 2.6  2.533646 0.52    \n",
       "Num.   2.6  2.533700 0.52    "
      ]
     },
     "metadata": {},
     "output_type": "display_data"
    }
   ],
   "source": [
    "u_mean.th   <- u_alpha/u_lambda\n",
    "u_median.th <- qgamma(0.5, u_alpha, u_lambda)                              # alpha*(1-1/(9*alpha))^3\n",
    "u_var.th    <- u_alpha/(u_lambda^2)\n",
    "\n",
    "n_momentum <- function(n, pdf) {\n",
    "    integrate(function(x) {x^n*pdf(x)}, lower=0, upper=Inf)[[1]]\n",
    "}   \n",
    "\n",
    "# experimental mean\n",
    "u_mean.exp   <- n_momentum(1, u_posterior)\n",
    "\n",
    "# experimental median\n",
    "x <- 0\n",
    "while(TRUE) {\n",
    "    z <- integrate(u_posterior, lower=0, upper=x)[[1]]\n",
    "    if(z>=0.5) break\n",
    "    else x <- x+precision\n",
    "}\n",
    "u_median.exp <- x\n",
    "\n",
    "# experimental variance\n",
    "u_var.exp    <- n_momentum(2, u_posterior) - u_mean.exp^2\n",
    "\n",
    "df <- data.frame(mean=c(u_mean.th, u_mean.exp), \n",
    "                 median=c(u_median.th, u_median.exp), \n",
    "                 variance=c(u_var.th, u_var.exp))\n",
    "rownames(df) <- c('Analy.', 'Num.')\n",
    "df"
   ]
  },
  {
   "cell_type": "markdown",
   "metadata": {},
   "source": [
    "### b)\n",
    "Assuming a Jeffrey's prior the posterior of a Poisson process is the Gamma distribution $Gamma(\\mu|\\alpha, \\lambda)$ with $\\alpha=(\\sum_{i=1}^n x_i) +\\frac{1}{2}$ and $\\lambda=n$ where ${x_i}$ is the set of observations and $n$ its magnitude."
   ]
  },
  {
   "cell_type": "code",
   "execution_count": 56,
   "metadata": {
    "vscode": {
     "languageId": "r"
    }
   },
   "outputs": [
    {
     "data": {
      "image/png": "[encoded data removed]",
      "text/plain": [
       "plot without title"
      ]
     },
     "metadata": {
      "image/png": {
       "height": 240,
       "width": 240
      }
     },
     "output_type": "display_data"
    }
   ],
   "source": [
    "j_alpha  <- sum(obs) + 1/2\n",
    "j_lambda <- length(obs)\n",
    "\n",
    "j_posterior <- function(mu) {dgamma(mu, shape=j_alpha, rate=j_lambda)}\n",
    "\n",
    "plot_pdf(j_posterior, \"Posterior of Poisson process\\nwith Jeffrey's prior\")"
   ]
  },
  {
   "cell_type": "code",
   "execution_count": 57,
   "metadata": {
    "vscode": {
     "languageId": "r"
    }
   },
   "outputs": [
    {
     "data": {
      "text/html": [
       "<table class=\"dataframe\">\n",
       "<caption>A data.frame: 2 × 3</caption>\n",
       "<thead>\n",
       "\t<tr><th></th><th scope=col>mean</th><th scope=col>median</th><th scope=col>variance</th></tr>\n",
       "\t<tr><th></th><th scope=col>&lt;dbl&gt;</th><th scope=col>&lt;dbl&gt;</th><th scope=col>&lt;dbl&gt;</th></tr>\n",
       "</thead>\n",
       "<tbody>\n",
       "\t<tr><th scope=row>Analy.</th><td>2.5</td><td>2.433659</td><td>0.5</td></tr>\n",
       "\t<tr><th scope=row>Num.</th><td>2.5</td><td>2.433700</td><td>0.5</td></tr>\n",
       "</tbody>\n",
       "</table>\n"
      ],
      "text/latex": [
       "A data.frame: 2 × 3\n",
       "\\begin{tabular}{r|lll}\n",
       "  & mean & median & variance\\\\\n",
       "  & <dbl> & <dbl> & <dbl>\\\\\n",
       "\\hline\n",
       "\tAnaly. & 2.5 & 2.433659 & 0.5\\\\\n",
       "\tNum. & 2.5 & 2.433700 & 0.5\\\\\n",
       "\\end{tabular}\n"
      ],
      "text/markdown": [
       "\n",
       "A data.frame: 2 × 3\n",
       "\n",
       "| <!--/--> | mean &lt;dbl&gt; | median &lt;dbl&gt; | variance &lt;dbl&gt; |\n",
       "|---|---|---|---|\n",
       "| Analy. | 2.5 | 2.433659 | 0.5 |\n",
       "| Num. | 2.5 | 2.433700 | 0.5 |\n",
       "\n"
      ],
      "text/plain": [
       "       mean median   variance\n",
       "Analy. 2.5  2.433659 0.5     \n",
       "Num.   2.5  2.433700 0.5     "
      ]
     },
     "metadata": {},
     "output_type": "display_data"
    }
   ],
   "source": [
    "j_mean.th   <- j_alpha/j_lambda\n",
    "j_median.th <- qgamma(0.5, j_alpha, j_lambda)                              # alpha*(1-1/(9*alpha))^3\n",
    "j_var.th    <- j_alpha/(j_lambda^2)\n",
    "\n",
    "# experimental mean\n",
    "j_mean.exp   <- n_momentum(1, j_posterior)\n",
    "\n",
    "# experimental median\n",
    "x <- 0\n",
    "while(TRUE) {\n",
    "    z <- integrate(j_posterior, lower=0, upper=x)[[1]]\n",
    "    if(z>=0.5) break\n",
    "    else x <- x+precision\n",
    "}\n",
    "j_median.exp <- x\n",
    "\n",
    "# experimental variance\n",
    "j_var.exp    <- n_momentum(2, j_posterior) - j_mean.exp^2\n",
    "\n",
    "df <- data.frame(mean=c(j_mean.th, j_mean.exp), \n",
    "                 median=c(j_median.th, j_median.exp), \n",
    "                 variance=c(j_var.th, j_var.exp))\n",
    "rownames(df) <- c('Analy.', 'Num.')\n",
    "df"
   ]
  },
  {
   "cell_type": "markdown",
   "metadata": {},
   "source": [
    "### c)"
   ]
  },
  {
   "cell_type": "code",
   "execution_count": 62,
   "metadata": {
    "vscode": {
     "languageId": "r"
    }
   },
   "outputs": [],
   "source": [
    "\n",
    "confidence_interval <- function(mean, dist, ..., cl=0.95, precision=10^-4) {\n",
    "    a <- mean\n",
    "    b <- mean\n",
    "    while (TRUE) {\n",
    "        z <- integrate(dist, lower=a, upper=mean, ...)[[1]] +\n",
    "             integrate(dist, lower=mean, upper=b, ...)[[1]]\n",
    "        if(z > cl) break\n",
    "        else if(a-precision >= 0) {\n",
    "            if(a-precision >= 0) a <- a-precision\n",
    "            b <- b+precision  \n",
    "        }\n",
    "        else b <- b+precision \n",
    "    }\n",
    "    return(c(a, b))\n",
    "}"
   ]
  },
  {
   "cell_type": "code",
   "execution_count": 78,
   "metadata": {
    "vscode": {
     "languageId": "r"
    }
   },
   "outputs": [
    {
     "name": "stdout",
     "output_type": "stream",
     "text": [
      "Posterior with uniform prior:\n",
      "\tMean\t\t: 2.60\n",
      "\t95% C.I.\t: 1.2146 - 3.9854\n",
      "\tnorm approx.\t: 1.1866 - 4.0134 \n",
      "Posterior with Jeffrey's prior:\n",
      "\tMean\t\t: 2.50\n",
      "\t95% C.I.\t: 1.1425 - 3.8575\n",
      "\tnorm approx.\t: 1.1141 - 3.8859 \n"
     ]
    }
   ],
   "source": [
    "cl=0.95\n",
    "\n",
    "ci.unif <- confidence_interval(u_mean.th, u_posterior, cl=cl)\n",
    "ci.jeff <- confidence_interval(j_mean.th, j_posterior, cl=cl)\n",
    "\n",
    "ci.unif.norm <- c(qnorm( (1-cl)/2, mean=u_mean.th, sd=sqrt(u_var.th) ), \n",
    "                  qnorm( (1+cl)/2, mean=u_mean.th, sd=sqrt(u_var.th) ))\n",
    "ci.jeff.norm <- c(qnorm( (1-cl)/2, mean=j_mean.th, sd=sqrt(j_var.th) ), \n",
    "                  qnorm( (1+cl)/2, mean=j_mean.th, sd=sqrt(j_var.th) ))\n",
    "\n",
    "\n",
    "cat(sprintf(\"Posterior with uniform prior:\\n\\tMean\\t\\t: %.2f\\n\\t%i%% C.I.\\t: %.4f - %.4f\\n\\tnorm approx.\\t: %.4f - %.4f\", \n",
    "    u_mean.th, cl*100, ci.unif[[1]], ci.unif[[2]], ci.unif.norm[[1]], ci.unif.norm[[2]]), '\\n')\n",
    "cat(sprintf(\"Posterior with Jeffrey's prior:\\n\\tMean\\t\\t: %.2f\\n\\t%i%% C.I.\\t: %.4f - %.4f\\n\\tnorm approx.\\t: %.4f - %.4f\",\n",
    "    j_mean.th, cl*100, ci.jeff[[1]], ci.jeff[[2]], ci.jeff.norm[[1]], ci.jeff.norm[[2]]), '\\n')"
   ]
  },
  {
   "cell_type": "markdown",
   "metadata": {},
   "source": [
    "## Ex2 - Lighthouse problem"
   ]
  },
  {
   "cell_type": "code",
   "execution_count": 65,
   "metadata": {
    "vscode": {
     "languageId": "r"
    }
   },
   "outputs": [
    {
     "name": "stdout",
     "output_type": "stream",
     "text": [
      "Normal                  package:stats                  R Documentation\n",
      "\n",
      "_\bT_\bh_\be _\bN_\bo_\br_\bm_\ba_\bl _\bD_\bi_\bs_\bt_\br_\bi_\bb_\bu_\bt_\bi_\bo_\bn\n",
      "\n",
      "_\bD_\be_\bs_\bc_\br_\bi_\bp_\bt_\bi_\bo_\bn:\n",
      "\n",
      "     Density, distribution function, quantile function and random\n",
      "     generation for the normal distribution with mean equal to ‘mean’\n",
      "     and standard deviation equal to ‘sd’.\n",
      "\n",
      "_\bU_\bs_\ba_\bg_\be:\n",
      "\n",
      "     dnorm(x, mean = 0, sd = 1, log = FALSE)\n",
      "     pnorm(q, mean = 0, sd = 1, lower.tail = TRUE, log.p = FALSE)\n",
      "     qnorm(p, mean = 0, sd = 1, lower.tail = TRUE, log.p = FALSE)\n",
      "     rnorm(n, mean = 0, sd = 1)\n",
      "     \n",
      "_\bA_\br_\bg_\bu_\bm_\be_\bn_\bt_\bs:\n",
      "\n",
      "    x, q: vector of quantiles.\n",
      "\n",
      "       p: vector of probabilities.\n",
      "\n",
      "       n: number of observations. If ‘length(n) > 1’, the length is\n",
      "          taken to be the number required.\n",
      "\n",
      "    mean: vector of means.\n",
      "\n",
      "      sd: vector of standard deviations.\n",
      "\n",
      "log, log.p: logical; if TRUE, probabilities p are given as log(p).\n",
      "\n",
      "lower.tail: logical; if TRUE (default), probabilities are P[X <= x]\n",
      "          otherwise, P[X > x].\n",
      "\n",
      "_\bD_\be_\bt_\ba_\bi_\bl_\bs:\n",
      "\n",
      "     If ‘mean’ or ‘sd’ are not specified they assume the default values\n",
      "     of ‘0’ and ‘1’, respectively.\n",
      "\n",
      "     The normal distribution has density\n",
      "\n",
      "            f(x) = 1/(sqrt(2 pi) sigma) e^-((x - mu)^2/(2 sigma^2))     \n",
      "     \n",
      "     where mu is the mean of the distribution and sigma the standard\n",
      "     deviation.\n",
      "\n",
      "_\bV_\ba_\bl_\bu_\be:\n",
      "\n",
      "     ‘dnorm’ gives the density, ‘pnorm’ gives the distribution\n",
      "     function, ‘qnorm’ gives the quantile function, and ‘rnorm’\n",
      "     generates random deviates.\n",
      "\n",
      "     The length of the result is determined by ‘n’ for ‘rnorm’, and is\n",
      "     the maximum of the lengths of the numerical arguments for the\n",
      "     other functions.\n",
      "\n",
      "     The numerical arguments other than ‘n’ are recycled to the length\n",
      "     of the result.  Only the first elements of the logical arguments\n",
      "     are used.\n",
      "\n",
      "     For ‘sd = 0’ this gives the limit as ‘sd’ decreases to 0, a point\n",
      "     mass at ‘mu’.  ‘sd < 0’ is an error and returns ‘NaN’.\n",
      "\n",
      "_\bS_\bo_\bu_\br_\bc_\be:\n",
      "\n",
      "     For ‘pnorm’, based on\n",
      "\n",
      "     Cody, W. D. (1993) Algorithm 715: SPECFUN - A portable FORTRAN\n",
      "     package of special function routines and test drivers.  _ACM\n",
      "     Transactions on Mathematical Software_ *19*, 22-32.\n",
      "\n",
      "     For ‘qnorm’, the code is a C translation of\n",
      "\n",
      "     Wichura, M. J. (1988) Algorithm AS 241: The percentage points of\n",
      "     the normal distribution.  _Applied Statistics_, *37*, 477-484.\n",
      "\n",
      "     which provides precise results up to about 16 digits.\n",
      "\n",
      "     For ‘rnorm’, see RNG for how to select the algorithm and for\n",
      "     references to the supplied methods.\n",
      "\n",
      "_\bR_\be_\bf_\be_\br_\be_\bn_\bc_\be_\bs:\n",
      "\n",
      "     Becker, R. A., Chambers, J. M. and Wilks, A. R. (1988) _The New S\n",
      "     Language_.  Wadsworth & Brooks/Cole.\n",
      "\n",
      "     Johnson, N. L., Kotz, S. and Balakrishnan, N. (1995) _Continuous\n",
      "     Univariate Distributions_, volume 1, chapter 13.  Wiley, New York.\n",
      "\n",
      "_\bS_\be_\be _\bA_\bl_\bs_\bo:\n",
      "\n",
      "     Distributions for other standard distributions, including ‘dlnorm’\n",
      "     for the _Log_normal distribution.\n",
      "\n",
      "_\bE_\bx_\ba_\bm_\bp_\bl_\be_\bs:\n",
      "\n",
      "     require(graphics)\n",
      "     \n",
      "     dnorm(0) == 1/sqrt(2*pi)\n",
      "     dnorm(1) == exp(-1/2)/sqrt(2*pi)\n",
      "     dnorm(1) == 1/sqrt(2*pi*exp(1))\n",
      "     \n",
      "     ## Using \"log = TRUE\" for an extended range :\n",
      "     par(mfrow = c(2,1))\n",
      "     plot(function(x) dnorm(x, log = TRUE), -60, 50,\n",
      "          main = \"log { Normal density }\")\n",
      "     curve(log(dnorm(x)), add = TRUE, col = \"red\", lwd = 2)\n",
      "     mtext(\"dnorm(x, log=TRUE)\", adj = 0)\n",
      "     mtext(\"log(dnorm(x))\", col = \"red\", adj = 1)\n",
      "     \n",
      "     plot(function(x) pnorm(x, log.p = TRUE), -50, 10,\n",
      "          main = \"log { Normal Cumulative }\")\n",
      "     curve(log(pnorm(x)), add = TRUE, col = \"red\", lwd = 2)\n",
      "     mtext(\"pnorm(x, log=TRUE)\", adj = 0)\n",
      "     mtext(\"log(pnorm(x))\", col = \"red\", adj = 1)\n",
      "     \n",
      "     ## if you want the so-called 'error function'\n",
      "     erf <- function(x) 2 * pnorm(x * sqrt(2)) - 1\n",
      "     ## (see Abramowitz and Stegun 29.2.29)\n",
      "     ## and the so-called 'complementary error function'\n",
      "     erfc <- function(x) 2 * pnorm(x * sqrt(2), lower = FALSE)\n",
      "     ## and the inverses\n",
      "     erfinv <- function (x) qnorm((1 + x)/2)/sqrt(2)\n",
      "     erfcinv <- function (x) qnorm(x/2, lower = FALSE)/sqrt(2)\n",
      "     "
     ]
    }
   ],
   "source": [
    "?qnorm"
   ]
  },
  {
   "cell_type": "code",
   "execution_count": null,
   "metadata": {
    "vscode": {
     "languageId": "r"
    }
   },
   "outputs": [],
   "source": []
  }
 ],
 "metadata": {
  "kernelspec": {
   "display_name": "R",
   "language": "R",
   "name": "ir"
  },
  "language_info": {
   "codemirror_mode": "r",
   "file_extension": ".r",
   "mimetype": "text/x-r-source",
   "name": "R",
   "pygments_lexer": "r",
   "version": "4.1.2"
  },
  "orig_nbformat": 4
 },
 "nbformat": 4,
 "nbformat_minor": 2
}
