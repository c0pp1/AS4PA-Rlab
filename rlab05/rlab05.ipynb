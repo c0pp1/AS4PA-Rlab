{
 "cells": [
  {
   "cell_type": "markdown",
   "metadata": {},
   "source": [
    "# R Exercises - part 5\n",
    "- Name: Alberto Coppi\n",
    "- Student ID: 2053063\n",
    "- E-mail: <alberto.coppi@studenti.unipd.it>"
   ]
  },
  {
   "cell_type": "markdown",
   "metadata": {},
   "source": [
    "## Import useful libraries"
   ]
  },
  {
   "cell_type": "code",
   "execution_count": 50,
   "metadata": {
    "vscode": {
     "languageId": "r"
    }
   },
   "outputs": [
    {
     "name": "stderr",
     "output_type": "stream",
     "text": [
      "Warning message in system(\"timedatectl\", intern = TRUE):\n",
      "“running command 'timedatectl' had status 1”\n",
      "── \u001b[1mAttaching packages\u001b[22m ─────────────────────────────────────── tidyverse 1.3.1 ──\n",
      "\n",
      "\u001b[32m✔\u001b[39m \u001b[34mtibble \u001b[39m 3.1.7     \u001b[32m✔\u001b[39m \u001b[34mdplyr  \u001b[39m 1.0.9\n",
      "\u001b[32m✔\u001b[39m \u001b[34mtidyr  \u001b[39m 1.2.0     \u001b[32m✔\u001b[39m \u001b[34mstringr\u001b[39m 1.4.0\n",
      "\u001b[32m✔\u001b[39m \u001b[34mreadr  \u001b[39m 2.1.2     \u001b[32m✔\u001b[39m \u001b[34mforcats\u001b[39m 0.5.1\n",
      "\u001b[32m✔\u001b[39m \u001b[34mpurrr  \u001b[39m 0.3.4     \n",
      "\n",
      "── \u001b[1mConflicts\u001b[22m ────────────────────────────────────────── tidyverse_conflicts() ──\n",
      "\u001b[31m✖\u001b[39m \u001b[34mdplyr\u001b[39m::\u001b[32mcombine()\u001b[39m masks \u001b[34mgridExtra\u001b[39m::combine()\n",
      "\u001b[31m✖\u001b[39m \u001b[34mpurrr\u001b[39m::\u001b[32mcross()\u001b[39m   masks \u001b[34mpracma\u001b[39m::cross()\n",
      "\u001b[31m✖\u001b[39m \u001b[34mdplyr\u001b[39m::\u001b[32mfilter()\u001b[39m  masks \u001b[34mstats\u001b[39m::filter()\n",
      "\u001b[31m✖\u001b[39m \u001b[34mdplyr\u001b[39m::\u001b[32mlag()\u001b[39m     masks \u001b[34mstats\u001b[39m::lag()\n",
      "\n"
     ]
    }
   ],
   "source": [
    "library(ggplot2)\n",
    "library(gridExtra)\n",
    "library(tidyverse)"
   ]
  },
  {
   "cell_type": "code",
   "execution_count": 48,
   "metadata": {
    "vscode": {
     "languageId": "r"
    }
   },
   "outputs": [
    {
     "name": "stderr",
     "output_type": "stream",
     "text": [
      "Installing packages into ‘/home/alberto/R/x86_64-pc-linux-gnu-library/4.2’\n",
      "(as ‘lib’ is unspecified)\n",
      "\n",
      "also installing the dependencies ‘backports’, ‘blob’, ‘DBI’, ‘data.table’, ‘gargle’, ‘cellranger’, ‘ids’, ‘broom’, ‘dbplyr’, ‘dtplyr’, ‘forcats’, ‘googledrive’, ‘googlesheets4’, ‘haven’, ‘modelr’, ‘readxl’, ‘reprex’, ‘rvest’, ‘tidyr’\n",
      "\n",
      "\n"
     ]
    }
   ],
   "source": [
    "install.packages(c(\"tidyverse\", \"dplyr\"))"
   ]
  },
  {
   "cell_type": "markdown",
   "metadata": {},
   "source": [
    "## Ex1 - Radioactive source"
   ]
  },
  {
   "cell_type": "code",
   "execution_count": 2,
   "metadata": {
    "vscode": {
     "languageId": "r"
    }
   },
   "outputs": [],
   "source": [
    "Dt  <- 10\n",
    "obs <- c(4, 1, 3, 1, 3)"
   ]
  },
  {
   "cell_type": "markdown",
   "metadata": {},
   "source": [
    "### a)\n",
    "Assuming a flat prior the posterior of a Poisson process is the Gamma distribution $Gamma(\\mu|\\alpha, \\lambda)$ with $\\alpha=(\\sum_{i=1}^n x_i) +1$ and $\\lambda=n$ where ${x_i}$ is the set of observations and $n$ its magnitude."
   ]
  },
  {
   "cell_type": "code",
   "execution_count": 3,
   "metadata": {
    "vscode": {
     "languageId": "r"
    }
   },
   "outputs": [],
   "source": [
    "u_alpha  <- sum(obs) + 1\n",
    "u_lambda <- length(obs)\n",
    "\n",
    "u_posterior <- function(mu) {dgamma(mu, shape=u_alpha, rate=u_lambda)}"
   ]
  },
  {
   "cell_type": "code",
   "execution_count": 4,
   "metadata": {
    "vscode": {
     "languageId": "r"
    }
   },
   "outputs": [
    {
     "data": {
      "image/png": "[encoded data removed]",
      "text/plain": [
       "plot without title"
      ]
     },
     "metadata": {
      "image/png": {
       "height": 300,
       "width": 300
      }
     },
     "output_type": "display_data"
    }
   ],
   "source": [
    "plot_pdf <- function(pdf, title) {\n",
    "    mus <- seq(0, 10, length.out=201)\n",
    "\n",
    "    options(repr.plot.width=5, repr.plot.height=5)\n",
    "    plt <- ggplot(data.frame(mu=mus, posterior=pdf(mus)), aes(x=mu, y=posterior)) +\n",
    "           geom_path(color='steelblue') +\n",
    "           geom_vline(aes(xintercept=mu[which.max(posterior)]), color='red') +\n",
    "           labs(title=title) +\n",
    "           theme(plot.title=element_text(hjust=0.5))\n",
    "    show(plt)\n",
    "}\n",
    "\n",
    "plot_pdf(u_posterior, 'Posterior of Poisson process\\nwith uniform prior')"
   ]
  },
  {
   "cell_type": "markdown",
   "metadata": {},
   "source": [
    "Now we calculate analitically and numerically the mean, median and variance. As the Gamma distribution has no analitical form to calculate the median, we calculate it using `qgamma`"
   ]
  },
  {
   "cell_type": "code",
   "execution_count": 5,
   "metadata": {
    "vscode": {
     "languageId": "r"
    }
   },
   "outputs": [
    {
     "data": {
      "text/html": [
       "<table class=\"dataframe\">\n",
       "<caption>A data.frame: 2 × 3</caption>\n",
       "<thead>\n",
       "\t<tr><th></th><th scope=col>mean</th><th scope=col>median</th><th scope=col>variance</th></tr>\n",
       "\t<tr><th></th><th scope=col>&lt;dbl&gt;</th><th scope=col>&lt;dbl&gt;</th><th scope=col>&lt;dbl&gt;</th></tr>\n",
       "</thead>\n",
       "<tbody>\n",
       "\t<tr><th scope=row>Analy.</th><td>2.6</td><td>2.533646</td><td>0.52</td></tr>\n",
       "\t<tr><th scope=row>Num.</th><td>2.6</td><td>2.533700</td><td>0.52</td></tr>\n",
       "</tbody>\n",
       "</table>\n"
      ],
      "text/latex": [
       "A data.frame: 2 × 3\n",
       "\\begin{tabular}{r|lll}\n",
       "  & mean & median & variance\\\\\n",
       "  & <dbl> & <dbl> & <dbl>\\\\\n",
       "\\hline\n",
       "\tAnaly. & 2.6 & 2.533646 & 0.52\\\\\n",
       "\tNum. & 2.6 & 2.533700 & 0.52\\\\\n",
       "\\end{tabular}\n"
      ],
      "text/markdown": [
       "\n",
       "A data.frame: 2 × 3\n",
       "\n",
       "| <!--/--> | mean &lt;dbl&gt; | median &lt;dbl&gt; | variance &lt;dbl&gt; |\n",
       "|---|---|---|---|\n",
       "| Analy. | 2.6 | 2.533646 | 0.52 |\n",
       "| Num. | 2.6 | 2.533700 | 0.52 |\n",
       "\n"
      ],
      "text/plain": [
       "       mean median   variance\n",
       "Analy. 2.6  2.533646 0.52    \n",
       "Num.   2.6  2.533700 0.52    "
      ]
     },
     "metadata": {},
     "output_type": "display_data"
    }
   ],
   "source": [
    "u_mean.th   <- u_alpha/u_lambda\n",
    "u_median.th <- qgamma(0.5, u_alpha, u_lambda)                              # alpha*(1-1/(9*alpha))^3\n",
    "u_var.th    <- u_alpha/(u_lambda^2)\n",
    "\n",
    "n_momentum <- function(n, pdf) {\n",
    "    integrate(function(x) {x^n*pdf(x)}, lower=0, upper=Inf)[[1]]\n",
    "}   \n",
    "\n",
    "# experimental mean\n",
    "u_mean.exp   <- n_momentum(1, u_posterior)\n",
    "\n",
    "# experimental median\n",
    "x <- 0\n",
    "precision <- 10^-4\n",
    "while(TRUE) {\n",
    "    z <- integrate(u_posterior, lower=0, upper=x)[[1]]\n",
    "    if(z>=0.5) break\n",
    "    else x <- x+precision\n",
    "}\n",
    "u_median.exp <- x\n",
    "\n",
    "# experimental variance\n",
    "u_var.exp    <- n_momentum(2, u_posterior) - u_mean.exp^2\n",
    "\n",
    "df <- data.frame(mean=c(u_mean.th, u_mean.exp), \n",
    "                 median=c(u_median.th, u_median.exp), \n",
    "                 variance=c(u_var.th, u_var.exp))\n",
    "rownames(df) <- c('Analy.', 'Num.')\n",
    "df"
   ]
  },
  {
   "cell_type": "markdown",
   "metadata": {},
   "source": [
    "### b)\n",
    "Assuming a Jeffrey's prior the posterior of a Poisson process is the Gamma distribution $Gamma(\\mu|\\alpha, \\lambda)$ with $\\alpha=(\\sum_{i=1}^n x_i) +\\frac{1}{2}$ and $\\lambda=n$ where ${x_i}$ is the set of observations and $n$ its magnitude."
   ]
  },
  {
   "cell_type": "code",
   "execution_count": 6,
   "metadata": {
    "vscode": {
     "languageId": "r"
    }
   },
   "outputs": [
    {
     "data": {
      "image/png": "[encoded data removed]",
      "text/plain": [
       "plot without title"
      ]
     },
     "metadata": {
      "image/png": {
       "height": 300,
       "width": 300
      }
     },
     "output_type": "display_data"
    }
   ],
   "source": [
    "j_alpha  <- sum(obs) + 1/2\n",
    "j_lambda <- length(obs)\n",
    "\n",
    "j_posterior <- function(mu) {dgamma(mu, shape=j_alpha, rate=j_lambda)}\n",
    "\n",
    "plot_pdf(j_posterior, \"Posterior of Poisson process\\nwith Jeffrey's prior\")"
   ]
  },
  {
   "cell_type": "code",
   "execution_count": 7,
   "metadata": {
    "vscode": {
     "languageId": "r"
    }
   },
   "outputs": [
    {
     "data": {
      "text/html": [
       "<table class=\"dataframe\">\n",
       "<caption>A data.frame: 2 × 3</caption>\n",
       "<thead>\n",
       "\t<tr><th></th><th scope=col>mean</th><th scope=col>median</th><th scope=col>variance</th></tr>\n",
       "\t<tr><th></th><th scope=col>&lt;dbl&gt;</th><th scope=col>&lt;dbl&gt;</th><th scope=col>&lt;dbl&gt;</th></tr>\n",
       "</thead>\n",
       "<tbody>\n",
       "\t<tr><th scope=row>Analy.</th><td>2.5</td><td>2.433659</td><td>0.5</td></tr>\n",
       "\t<tr><th scope=row>Num.</th><td>2.5</td><td>2.433700</td><td>0.5</td></tr>\n",
       "</tbody>\n",
       "</table>\n"
      ],
      "text/latex": [
       "A data.frame: 2 × 3\n",
       "\\begin{tabular}{r|lll}\n",
       "  & mean & median & variance\\\\\n",
       "  & <dbl> & <dbl> & <dbl>\\\\\n",
       "\\hline\n",
       "\tAnaly. & 2.5 & 2.433659 & 0.5\\\\\n",
       "\tNum. & 2.5 & 2.433700 & 0.5\\\\\n",
       "\\end{tabular}\n"
      ],
      "text/markdown": [
       "\n",
       "A data.frame: 2 × 3\n",
       "\n",
       "| <!--/--> | mean &lt;dbl&gt; | median &lt;dbl&gt; | variance &lt;dbl&gt; |\n",
       "|---|---|---|---|\n",
       "| Analy. | 2.5 | 2.433659 | 0.5 |\n",
       "| Num. | 2.5 | 2.433700 | 0.5 |\n",
       "\n"
      ],
      "text/plain": [
       "       mean median   variance\n",
       "Analy. 2.5  2.433659 0.5     \n",
       "Num.   2.5  2.433700 0.5     "
      ]
     },
     "metadata": {},
     "output_type": "display_data"
    }
   ],
   "source": [
    "j_mean.th   <- j_alpha/j_lambda\n",
    "j_median.th <- qgamma(0.5, j_alpha, j_lambda)                              # alpha*(1-1/(9*alpha))^3\n",
    "j_var.th    <- j_alpha/(j_lambda^2)\n",
    "\n",
    "# experimental mean\n",
    "j_mean.exp   <- n_momentum(1, j_posterior)\n",
    "\n",
    "# experimental median\n",
    "x <- 0\n",
    "while(TRUE) {\n",
    "    z <- integrate(j_posterior, lower=0, upper=x)[[1]]\n",
    "    if(z>=0.5) break\n",
    "    else x <- x+precision\n",
    "}\n",
    "j_median.exp <- x\n",
    "\n",
    "# experimental variance\n",
    "j_var.exp    <- n_momentum(2, j_posterior) - j_mean.exp^2\n",
    "\n",
    "df <- data.frame(mean=c(j_mean.th, j_mean.exp), \n",
    "                 median=c(j_median.th, j_median.exp), \n",
    "                 variance=c(j_var.th, j_var.exp))\n",
    "rownames(df) <- c('Analy.', 'Num.')\n",
    "df"
   ]
  },
  {
   "cell_type": "markdown",
   "metadata": {},
   "source": [
    "### c)"
   ]
  },
  {
   "cell_type": "code",
   "execution_count": 8,
   "metadata": {
    "vscode": {
     "languageId": "r"
    }
   },
   "outputs": [],
   "source": [
    "\n",
    "confidence_interval <- function(mean, dist, ..., cl=0.95, precision=10^-4) {\n",
    "    a <- mean\n",
    "    b <- mean\n",
    "    while (TRUE) {\n",
    "        z <- integrate(dist, lower=a, upper=mean, ...)[[1]] +\n",
    "             integrate(dist, lower=mean, upper=b, ...)[[1]]\n",
    "        if(z > cl) break\n",
    "        else if(a-precision >= 0) {\n",
    "            if(a-precision >= 0) a <- a-precision\n",
    "            b <- b+precision  \n",
    "        }\n",
    "        else b <- b+precision \n",
    "    }\n",
    "    return(c(a, b))\n",
    "}"
   ]
  },
  {
   "cell_type": "code",
   "execution_count": 9,
   "metadata": {
    "vscode": {
     "languageId": "r"
    }
   },
   "outputs": [
    {
     "name": "stdout",
     "output_type": "stream",
     "text": [
      "Posterior with uniform prior:\n",
      "\tMean\t\t: 2.60\n",
      "\t95% C.I.\t: 1.2146 - 3.9854\n",
      "\tnorm approx.\t: 1.1866 - 4.0134 \n",
      "Posterior with Jeffrey's prior:\n",
      "\tMean\t\t: 2.50\n",
      "\t95% C.I.\t: 1.1425 - 3.8575\n",
      "\tnorm approx.\t: 1.1141 - 3.8859 \n"
     ]
    }
   ],
   "source": [
    "cl=0.95\n",
    "\n",
    "ci.unif <- confidence_interval(u_mean.th, u_posterior, cl=cl)\n",
    "ci.jeff <- confidence_interval(j_mean.th, j_posterior, cl=cl)\n",
    "\n",
    "ci.unif.norm <- c(qnorm( (1-cl)/2, mean=u_mean.th, sd=sqrt(u_var.th) ), \n",
    "                  qnorm( (1+cl)/2, mean=u_mean.th, sd=sqrt(u_var.th) ))\n",
    "ci.jeff.norm <- c(qnorm( (1-cl)/2, mean=j_mean.th, sd=sqrt(j_var.th) ), \n",
    "                  qnorm( (1+cl)/2, mean=j_mean.th, sd=sqrt(j_var.th) ))\n",
    "\n",
    "\n",
    "cat(sprintf(\"Posterior with uniform prior:\\n\\tMean\\t\\t: %.2f\\n\\t%i%% C.I.\\t: %.4f - %.4f\\n\\tnorm approx.\\t: %.4f - %.4f\", \n",
    "    u_mean.th, cl*100, ci.unif[[1]], ci.unif[[2]], ci.unif.norm[[1]], ci.unif.norm[[2]]), '\\n')\n",
    "cat(sprintf(\"Posterior with Jeffrey's prior:\\n\\tMean\\t\\t: %.2f\\n\\t%i%% C.I.\\t: %.4f - %.4f\\n\\tnorm approx.\\t: %.4f - %.4f\",\n",
    "    j_mean.th, cl*100, ci.jeff[[1]], ci.jeff[[2]], ci.jeff.norm[[1]], ci.jeff.norm[[2]]), '\\n')"
   ]
  },
  {
   "cell_type": "markdown",
   "metadata": {},
   "source": [
    "## Ex2 - Lighthouse problem\n",
    "\n",
    "To solve this problem we take into account the exercise done in class. The only difference is the fact that the parameter $\\beta$ is not fixed. Thus, the analytical form of the likelihood remains unchanged, while the prior changes.  \n",
    "In this case, given that $\\alpha$ and $\\beta$ are independent from each other we take a uniform prior for both of them. The analytical form is:\n",
    "$\n",
    "    P(\\alpha, \\beta) = \n",
    "$"
   ]
  },
  {
   "cell_type": "code",
   "execution_count": 32,
   "metadata": {
    "vscode": {
     "languageId": "r"
    }
   },
   "outputs": [],
   "source": [
    "alpha.min <- -8\n",
    "alpha.max <- 8\n",
    "beta.min  <- 0\n",
    "beta.max  <- 4\n",
    "precision <- 0.5*10^-2\n",
    "old.data <- 0\n",
    "\n",
    "log.likelihood <- function( alpha, beta, data ) {\n",
    "    l <- 0\n",
    "    for( x in data ) {\n",
    "        l <- l - log(beta^2 + (x-alpha)^2)          # log for more precise computation\n",
    "    }\n",
    "    return(l + log(beta)*length(data))\n",
    "}\n",
    "\n",
    "evidence <- function( data ) {\n",
    "    # check data in order to avoid useless recomputing\n",
    "    if(sum(data == old.data) != length(old.data)) {\n",
    "        grid <- list(seq(alpha.min, alpha.max, by=precision), seq(beta.min, beta.max, by=precision))\n",
    "        integral <- 0\n",
    "        for(alpha in grid[[1]]) {\n",
    "            for(beta in grid[[2]]) {\n",
    "                integral <- integral + exp(log.likelihood( alpha, beta, data ))\n",
    "            }\n",
    "        }\n",
    "        evidenceEval <<- integral*precision^2\n",
    "        old.data <<- data\n",
    "    }\n",
    "    \n",
    "    return(evidenceEval)\n",
    "}\n",
    "\n",
    "posterior <- function( alpha, beta, data ) {\n",
    "    \n",
    "    return(exp(outer(alpha, beta, FUN=log.likelihood, data))/evidence(data))\n",
    "}"
   ]
  },
  {
   "cell_type": "code",
   "execution_count": 89,
   "metadata": {
    "vscode": {
     "languageId": "r"
    }
   },
   "outputs": [
    {
     "data": {
      "text/html": [
       "1.04407299329926e-05"
      ],
      "text/latex": [
       "1.04407299329926e-05"
      ],
      "text/markdown": [
       "1.04407299329926e-05"
      ],
      "text/plain": [
       "[1] 1.044073e-05"
      ]
     },
     "metadata": {},
     "output_type": "display_data"
    }
   ],
   "source": [
    "data <- rnorm(10, 2, 3)\n",
    "evidence(data)"
   ]
  },
  {
   "cell_type": "code",
   "execution_count": 100,
   "metadata": {
    "vscode": {
     "languageId": "r"
    }
   },
   "outputs": [
    {
     "name": "stderr",
     "output_type": "stream",
     "text": [
      "Saving 6.67 x 6.67 in image\n",
      "\n"
     ]
    }
   ],
   "source": [
    "alpha <- seq(alpha.min, alpha.max, by=0.1)\n",
    "beta  <- seq(beta.min, beta.max, by=0.1)\n",
    "values <- posterior(alpha, beta, data)\n",
    "colnames(values) <- beta\n",
    "data2plot <- data.frame(values) %>% \n",
    "        cbind(alpha) %>% \n",
    "        pivot_longer(names_to='beta', values_to='post', -alpha) %>% \n",
    "        mutate(beta=as.numeric(str_replace(beta, \"X\", \"\"))) \n",
    "plt <- ggplot(data2plot, aes(x=alpha, y=beta, fill=post)) +\n",
    "       geom_raster() +\n",
    "       scale_fill_gradientn(colours=terrain.colors(10)) +\n",
    "       theme_classic()\n",
    "show(plt)\n",
    "ggsave('prova.pdf', plt)"
   ]
  },
  {
   "cell_type": "code",
   "execution_count": 78,
   "metadata": {
    "vscode": {
     "languageId": "r"
    }
   },
   "outputs": [
    {
     "data": {
      "text/html": [
       "<table class=\"dataframe\">\n",
       "<caption>A data.frame: 20 × 22</caption>\n",
       "<thead>\n",
       "\t<tr><th scope=col>alpha</th><th scope=col>beta</th><th scope=col>X1</th><th scope=col>X2</th><th scope=col>X3</th><th scope=col>X4</th><th scope=col>X5</th><th scope=col>X6</th><th scope=col>X7</th><th scope=col>X8</th><th scope=col>⋯</th><th scope=col>X11</th><th scope=col>X12</th><th scope=col>X13</th><th scope=col>X14</th><th scope=col>X15</th><th scope=col>X16</th><th scope=col>X17</th><th scope=col>X18</th><th scope=col>X19</th><th scope=col>X20</th></tr>\n",
       "\t<tr><th scope=col>&lt;dbl&gt;</th><th scope=col>&lt;dbl&gt;</th><th scope=col>&lt;dbl&gt;</th><th scope=col>&lt;dbl&gt;</th><th scope=col>&lt;dbl&gt;</th><th scope=col>&lt;dbl&gt;</th><th scope=col>&lt;dbl&gt;</th><th scope=col>&lt;dbl&gt;</th><th scope=col>&lt;dbl&gt;</th><th scope=col>&lt;dbl&gt;</th><th scope=col>⋯</th><th scope=col>&lt;dbl&gt;</th><th scope=col>&lt;dbl&gt;</th><th scope=col>&lt;dbl&gt;</th><th scope=col>&lt;dbl&gt;</th><th scope=col>&lt;dbl&gt;</th><th scope=col>&lt;dbl&gt;</th><th scope=col>&lt;dbl&gt;</th><th scope=col>&lt;dbl&gt;</th><th scope=col>&lt;dbl&gt;</th><th scope=col>&lt;dbl&gt;</th></tr>\n",
       "</thead>\n",
       "<tbody>\n",
       "\t<tr><td>-8.0000000</td><td>0.0000000</td><td>NaN</td><td>NaN</td><td>NaN</td><td>NaN</td><td>NaN</td><td>NaN</td><td>NaN</td><td>NaN</td><td>⋯</td><td>NaN</td><td>NaN</td><td>NaN</td><td>NaN</td><td>NaN</td><td>NaN</td><td>NaN</td><td>NaN</td><td>NaN</td><td>NaN</td></tr>\n",
       "\t<tr><td>-7.1578947</td><td>0.2105263</td><td>NaN</td><td>NaN</td><td>NaN</td><td>NaN</td><td>NaN</td><td>NaN</td><td>NaN</td><td>NaN</td><td>⋯</td><td>NaN</td><td>NaN</td><td>NaN</td><td>NaN</td><td>NaN</td><td>NaN</td><td>NaN</td><td>NaN</td><td>NaN</td><td>NaN</td></tr>\n",
       "\t<tr><td>-6.3157895</td><td>0.4210526</td><td>NaN</td><td>NaN</td><td>NaN</td><td>NaN</td><td>NaN</td><td>NaN</td><td>NaN</td><td>NaN</td><td>⋯</td><td>NaN</td><td>NaN</td><td>NaN</td><td>NaN</td><td>NaN</td><td>NaN</td><td>NaN</td><td>NaN</td><td>NaN</td><td>NaN</td></tr>\n",
       "\t<tr><td>-5.4736842</td><td>0.6315789</td><td>NaN</td><td>NaN</td><td>NaN</td><td>NaN</td><td>NaN</td><td>NaN</td><td>NaN</td><td>NaN</td><td>⋯</td><td>NaN</td><td>NaN</td><td>NaN</td><td>NaN</td><td>NaN</td><td>NaN</td><td>NaN</td><td>NaN</td><td>NaN</td><td>NaN</td></tr>\n",
       "\t<tr><td>-4.6315789</td><td>0.8421053</td><td>NaN</td><td>NaN</td><td>NaN</td><td>NaN</td><td>NaN</td><td>NaN</td><td>NaN</td><td>NaN</td><td>⋯</td><td>NaN</td><td>NaN</td><td>NaN</td><td>NaN</td><td>NaN</td><td>NaN</td><td>NaN</td><td>NaN</td><td>NaN</td><td>NaN</td></tr>\n",
       "\t<tr><td>-3.7894737</td><td>1.0526316</td><td>NaN</td><td>NaN</td><td>NaN</td><td>NaN</td><td>NaN</td><td>NaN</td><td>NaN</td><td>NaN</td><td>⋯</td><td>NaN</td><td>NaN</td><td>NaN</td><td>NaN</td><td>NaN</td><td>NaN</td><td>NaN</td><td>NaN</td><td>NaN</td><td>NaN</td></tr>\n",
       "\t<tr><td>-2.9473684</td><td>1.2631579</td><td>NaN</td><td>NaN</td><td>NaN</td><td>NaN</td><td>NaN</td><td>NaN</td><td>NaN</td><td>NaN</td><td>⋯</td><td>NaN</td><td>NaN</td><td>NaN</td><td>NaN</td><td>NaN</td><td>NaN</td><td>NaN</td><td>NaN</td><td>NaN</td><td>NaN</td></tr>\n",
       "\t<tr><td>-2.1052632</td><td>1.4736842</td><td>NaN</td><td>NaN</td><td>NaN</td><td>NaN</td><td>NaN</td><td>NaN</td><td>NaN</td><td>NaN</td><td>⋯</td><td>NaN</td><td>NaN</td><td>NaN</td><td>NaN</td><td>NaN</td><td>NaN</td><td>NaN</td><td>NaN</td><td>NaN</td><td>NaN</td></tr>\n",
       "\t<tr><td>-1.2631579</td><td>1.6842105</td><td>NaN</td><td>NaN</td><td>NaN</td><td>NaN</td><td>NaN</td><td>NaN</td><td>NaN</td><td>NaN</td><td>⋯</td><td>NaN</td><td>NaN</td><td>NaN</td><td>NaN</td><td>NaN</td><td>NaN</td><td>NaN</td><td>NaN</td><td>NaN</td><td>NaN</td></tr>\n",
       "\t<tr><td>-0.4210526</td><td>1.8947368</td><td>NaN</td><td>NaN</td><td>NaN</td><td>NaN</td><td>NaN</td><td>NaN</td><td>NaN</td><td>NaN</td><td>⋯</td><td>NaN</td><td>NaN</td><td>NaN</td><td>NaN</td><td>NaN</td><td>NaN</td><td>NaN</td><td>NaN</td><td>NaN</td><td>NaN</td></tr>\n",
       "\t<tr><td> 0.4210526</td><td>2.1052632</td><td>NaN</td><td>NaN</td><td>NaN</td><td>NaN</td><td>NaN</td><td>NaN</td><td>NaN</td><td>NaN</td><td>⋯</td><td>NaN</td><td>NaN</td><td>NaN</td><td>NaN</td><td>NaN</td><td>NaN</td><td>NaN</td><td>NaN</td><td>NaN</td><td>NaN</td></tr>\n",
       "\t<tr><td> 1.2631579</td><td>2.3157895</td><td>NaN</td><td>NaN</td><td>NaN</td><td>NaN</td><td>NaN</td><td>NaN</td><td>NaN</td><td>NaN</td><td>⋯</td><td>NaN</td><td>NaN</td><td>NaN</td><td>NaN</td><td>NaN</td><td>NaN</td><td>NaN</td><td>NaN</td><td>NaN</td><td>NaN</td></tr>\n",
       "\t<tr><td> 2.1052632</td><td>2.5263158</td><td>NaN</td><td>NaN</td><td>NaN</td><td>NaN</td><td>NaN</td><td>NaN</td><td>NaN</td><td>NaN</td><td>⋯</td><td>NaN</td><td>NaN</td><td>NaN</td><td>NaN</td><td>NaN</td><td>NaN</td><td>NaN</td><td>NaN</td><td>NaN</td><td>NaN</td></tr>\n",
       "\t<tr><td> 2.9473684</td><td>2.7368421</td><td>NaN</td><td>NaN</td><td>NaN</td><td>NaN</td><td>NaN</td><td>NaN</td><td>NaN</td><td>NaN</td><td>⋯</td><td>NaN</td><td>NaN</td><td>NaN</td><td>NaN</td><td>NaN</td><td>NaN</td><td>NaN</td><td>NaN</td><td>NaN</td><td>NaN</td></tr>\n",
       "\t<tr><td> 3.7894737</td><td>2.9473684</td><td>NaN</td><td>NaN</td><td>NaN</td><td>NaN</td><td>NaN</td><td>NaN</td><td>NaN</td><td>NaN</td><td>⋯</td><td>NaN</td><td>NaN</td><td>NaN</td><td>NaN</td><td>NaN</td><td>NaN</td><td>NaN</td><td>NaN</td><td>NaN</td><td>NaN</td></tr>\n",
       "\t<tr><td> 4.6315789</td><td>3.1578947</td><td>NaN</td><td>NaN</td><td>NaN</td><td>NaN</td><td>NaN</td><td>NaN</td><td>NaN</td><td>NaN</td><td>⋯</td><td>NaN</td><td>NaN</td><td>NaN</td><td>NaN</td><td>NaN</td><td>NaN</td><td>NaN</td><td>NaN</td><td>NaN</td><td>NaN</td></tr>\n",
       "\t<tr><td> 5.4736842</td><td>3.3684211</td><td>NaN</td><td>NaN</td><td>NaN</td><td>NaN</td><td>NaN</td><td>NaN</td><td>NaN</td><td>NaN</td><td>⋯</td><td>NaN</td><td>NaN</td><td>NaN</td><td>NaN</td><td>NaN</td><td>NaN</td><td>NaN</td><td>NaN</td><td>NaN</td><td>NaN</td></tr>\n",
       "\t<tr><td> 6.3157895</td><td>3.5789474</td><td>NaN</td><td>NaN</td><td>NaN</td><td>NaN</td><td>NaN</td><td>NaN</td><td>NaN</td><td>NaN</td><td>⋯</td><td>NaN</td><td>NaN</td><td>NaN</td><td>NaN</td><td>NaN</td><td>NaN</td><td>NaN</td><td>NaN</td><td>NaN</td><td>NaN</td></tr>\n",
       "\t<tr><td> 7.1578947</td><td>3.7894737</td><td>NaN</td><td>NaN</td><td>NaN</td><td>NaN</td><td>NaN</td><td>NaN</td><td>NaN</td><td>NaN</td><td>⋯</td><td>NaN</td><td>NaN</td><td>NaN</td><td>NaN</td><td>NaN</td><td>NaN</td><td>NaN</td><td>NaN</td><td>NaN</td><td>NaN</td></tr>\n",
       "\t<tr><td> 8.0000000</td><td>4.0000000</td><td>NaN</td><td>NaN</td><td>NaN</td><td>NaN</td><td>NaN</td><td>NaN</td><td>NaN</td><td>NaN</td><td>⋯</td><td>NaN</td><td>NaN</td><td>NaN</td><td>NaN</td><td>NaN</td><td>NaN</td><td>NaN</td><td>NaN</td><td>NaN</td><td>NaN</td></tr>\n",
       "</tbody>\n",
       "</table>\n"
      ],
      "text/latex": [
       "A data.frame: 20 × 22\n",
       "\\begin{tabular}{lllllllllllllllllllll}\n",
       " alpha & beta & X1 & X2 & X3 & X4 & X5 & X6 & X7 & X8 & ⋯ & X11 & X12 & X13 & X14 & X15 & X16 & X17 & X18 & X19 & X20\\\\\n",
       " <dbl> & <dbl> & <dbl> & <dbl> & <dbl> & <dbl> & <dbl> & <dbl> & <dbl> & <dbl> & ⋯ & <dbl> & <dbl> & <dbl> & <dbl> & <dbl> & <dbl> & <dbl> & <dbl> & <dbl> & <dbl>\\\\\n",
       "\\hline\n",
       "\t -8.0000000 & 0.0000000 & NaN & NaN & NaN & NaN & NaN & NaN & NaN & NaN & ⋯ & NaN & NaN & NaN & NaN & NaN & NaN & NaN & NaN & NaN & NaN\\\\\n",
       "\t -7.1578947 & 0.2105263 & NaN & NaN & NaN & NaN & NaN & NaN & NaN & NaN & ⋯ & NaN & NaN & NaN & NaN & NaN & NaN & NaN & NaN & NaN & NaN\\\\\n",
       "\t -6.3157895 & 0.4210526 & NaN & NaN & NaN & NaN & NaN & NaN & NaN & NaN & ⋯ & NaN & NaN & NaN & NaN & NaN & NaN & NaN & NaN & NaN & NaN\\\\\n",
       "\t -5.4736842 & 0.6315789 & NaN & NaN & NaN & NaN & NaN & NaN & NaN & NaN & ⋯ & NaN & NaN & NaN & NaN & NaN & NaN & NaN & NaN & NaN & NaN\\\\\n",
       "\t -4.6315789 & 0.8421053 & NaN & NaN & NaN & NaN & NaN & NaN & NaN & NaN & ⋯ & NaN & NaN & NaN & NaN & NaN & NaN & NaN & NaN & NaN & NaN\\\\\n",
       "\t -3.7894737 & 1.0526316 & NaN & NaN & NaN & NaN & NaN & NaN & NaN & NaN & ⋯ & NaN & NaN & NaN & NaN & NaN & NaN & NaN & NaN & NaN & NaN\\\\\n",
       "\t -2.9473684 & 1.2631579 & NaN & NaN & NaN & NaN & NaN & NaN & NaN & NaN & ⋯ & NaN & NaN & NaN & NaN & NaN & NaN & NaN & NaN & NaN & NaN\\\\\n",
       "\t -2.1052632 & 1.4736842 & NaN & NaN & NaN & NaN & NaN & NaN & NaN & NaN & ⋯ & NaN & NaN & NaN & NaN & NaN & NaN & NaN & NaN & NaN & NaN\\\\\n",
       "\t -1.2631579 & 1.6842105 & NaN & NaN & NaN & NaN & NaN & NaN & NaN & NaN & ⋯ & NaN & NaN & NaN & NaN & NaN & NaN & NaN & NaN & NaN & NaN\\\\\n",
       "\t -0.4210526 & 1.8947368 & NaN & NaN & NaN & NaN & NaN & NaN & NaN & NaN & ⋯ & NaN & NaN & NaN & NaN & NaN & NaN & NaN & NaN & NaN & NaN\\\\\n",
       "\t  0.4210526 & 2.1052632 & NaN & NaN & NaN & NaN & NaN & NaN & NaN & NaN & ⋯ & NaN & NaN & NaN & NaN & NaN & NaN & NaN & NaN & NaN & NaN\\\\\n",
       "\t  1.2631579 & 2.3157895 & NaN & NaN & NaN & NaN & NaN & NaN & NaN & NaN & ⋯ & NaN & NaN & NaN & NaN & NaN & NaN & NaN & NaN & NaN & NaN\\\\\n",
       "\t  2.1052632 & 2.5263158 & NaN & NaN & NaN & NaN & NaN & NaN & NaN & NaN & ⋯ & NaN & NaN & NaN & NaN & NaN & NaN & NaN & NaN & NaN & NaN\\\\\n",
       "\t  2.9473684 & 2.7368421 & NaN & NaN & NaN & NaN & NaN & NaN & NaN & NaN & ⋯ & NaN & NaN & NaN & NaN & NaN & NaN & NaN & NaN & NaN & NaN\\\\\n",
       "\t  3.7894737 & 2.9473684 & NaN & NaN & NaN & NaN & NaN & NaN & NaN & NaN & ⋯ & NaN & NaN & NaN & NaN & NaN & NaN & NaN & NaN & NaN & NaN\\\\\n",
       "\t  4.6315789 & 3.1578947 & NaN & NaN & NaN & NaN & NaN & NaN & NaN & NaN & ⋯ & NaN & NaN & NaN & NaN & NaN & NaN & NaN & NaN & NaN & NaN\\\\\n",
       "\t  5.4736842 & 3.3684211 & NaN & NaN & NaN & NaN & NaN & NaN & NaN & NaN & ⋯ & NaN & NaN & NaN & NaN & NaN & NaN & NaN & NaN & NaN & NaN\\\\\n",
       "\t  6.3157895 & 3.5789474 & NaN & NaN & NaN & NaN & NaN & NaN & NaN & NaN & ⋯ & NaN & NaN & NaN & NaN & NaN & NaN & NaN & NaN & NaN & NaN\\\\\n",
       "\t  7.1578947 & 3.7894737 & NaN & NaN & NaN & NaN & NaN & NaN & NaN & NaN & ⋯ & NaN & NaN & NaN & NaN & NaN & NaN & NaN & NaN & NaN & NaN\\\\\n",
       "\t  8.0000000 & 4.0000000 & NaN & NaN & NaN & NaN & NaN & NaN & NaN & NaN & ⋯ & NaN & NaN & NaN & NaN & NaN & NaN & NaN & NaN & NaN & NaN\\\\\n",
       "\\end{tabular}\n"
      ],
      "text/markdown": [
       "\n",
       "A data.frame: 20 × 22\n",
       "\n",
       "| alpha &lt;dbl&gt; | beta &lt;dbl&gt; | X1 &lt;dbl&gt; | X2 &lt;dbl&gt; | X3 &lt;dbl&gt; | X4 &lt;dbl&gt; | X5 &lt;dbl&gt; | X6 &lt;dbl&gt; | X7 &lt;dbl&gt; | X8 &lt;dbl&gt; | ⋯ ⋯ | X11 &lt;dbl&gt; | X12 &lt;dbl&gt; | X13 &lt;dbl&gt; | X14 &lt;dbl&gt; | X15 &lt;dbl&gt; | X16 &lt;dbl&gt; | X17 &lt;dbl&gt; | X18 &lt;dbl&gt; | X19 &lt;dbl&gt; | X20 &lt;dbl&gt; |\n",
       "|---|---|---|---|---|---|---|---|---|---|---|---|---|---|---|---|---|---|---|---|---|\n",
       "| -8.0000000 | 0.0000000 | NaN | NaN | NaN | NaN | NaN | NaN | NaN | NaN | ⋯ | NaN | NaN | NaN | NaN | NaN | NaN | NaN | NaN | NaN | NaN |\n",
       "| -7.1578947 | 0.2105263 | NaN | NaN | NaN | NaN | NaN | NaN | NaN | NaN | ⋯ | NaN | NaN | NaN | NaN | NaN | NaN | NaN | NaN | NaN | NaN |\n",
       "| -6.3157895 | 0.4210526 | NaN | NaN | NaN | NaN | NaN | NaN | NaN | NaN | ⋯ | NaN | NaN | NaN | NaN | NaN | NaN | NaN | NaN | NaN | NaN |\n",
       "| -5.4736842 | 0.6315789 | NaN | NaN | NaN | NaN | NaN | NaN | NaN | NaN | ⋯ | NaN | NaN | NaN | NaN | NaN | NaN | NaN | NaN | NaN | NaN |\n",
       "| -4.6315789 | 0.8421053 | NaN | NaN | NaN | NaN | NaN | NaN | NaN | NaN | ⋯ | NaN | NaN | NaN | NaN | NaN | NaN | NaN | NaN | NaN | NaN |\n",
       "| -3.7894737 | 1.0526316 | NaN | NaN | NaN | NaN | NaN | NaN | NaN | NaN | ⋯ | NaN | NaN | NaN | NaN | NaN | NaN | NaN | NaN | NaN | NaN |\n",
       "| -2.9473684 | 1.2631579 | NaN | NaN | NaN | NaN | NaN | NaN | NaN | NaN | ⋯ | NaN | NaN | NaN | NaN | NaN | NaN | NaN | NaN | NaN | NaN |\n",
       "| -2.1052632 | 1.4736842 | NaN | NaN | NaN | NaN | NaN | NaN | NaN | NaN | ⋯ | NaN | NaN | NaN | NaN | NaN | NaN | NaN | NaN | NaN | NaN |\n",
       "| -1.2631579 | 1.6842105 | NaN | NaN | NaN | NaN | NaN | NaN | NaN | NaN | ⋯ | NaN | NaN | NaN | NaN | NaN | NaN | NaN | NaN | NaN | NaN |\n",
       "| -0.4210526 | 1.8947368 | NaN | NaN | NaN | NaN | NaN | NaN | NaN | NaN | ⋯ | NaN | NaN | NaN | NaN | NaN | NaN | NaN | NaN | NaN | NaN |\n",
       "|  0.4210526 | 2.1052632 | NaN | NaN | NaN | NaN | NaN | NaN | NaN | NaN | ⋯ | NaN | NaN | NaN | NaN | NaN | NaN | NaN | NaN | NaN | NaN |\n",
       "|  1.2631579 | 2.3157895 | NaN | NaN | NaN | NaN | NaN | NaN | NaN | NaN | ⋯ | NaN | NaN | NaN | NaN | NaN | NaN | NaN | NaN | NaN | NaN |\n",
       "|  2.1052632 | 2.5263158 | NaN | NaN | NaN | NaN | NaN | NaN | NaN | NaN | ⋯ | NaN | NaN | NaN | NaN | NaN | NaN | NaN | NaN | NaN | NaN |\n",
       "|  2.9473684 | 2.7368421 | NaN | NaN | NaN | NaN | NaN | NaN | NaN | NaN | ⋯ | NaN | NaN | NaN | NaN | NaN | NaN | NaN | NaN | NaN | NaN |\n",
       "|  3.7894737 | 2.9473684 | NaN | NaN | NaN | NaN | NaN | NaN | NaN | NaN | ⋯ | NaN | NaN | NaN | NaN | NaN | NaN | NaN | NaN | NaN | NaN |\n",
       "|  4.6315789 | 3.1578947 | NaN | NaN | NaN | NaN | NaN | NaN | NaN | NaN | ⋯ | NaN | NaN | NaN | NaN | NaN | NaN | NaN | NaN | NaN | NaN |\n",
       "|  5.4736842 | 3.3684211 | NaN | NaN | NaN | NaN | NaN | NaN | NaN | NaN | ⋯ | NaN | NaN | NaN | NaN | NaN | NaN | NaN | NaN | NaN | NaN |\n",
       "|  6.3157895 | 3.5789474 | NaN | NaN | NaN | NaN | NaN | NaN | NaN | NaN | ⋯ | NaN | NaN | NaN | NaN | NaN | NaN | NaN | NaN | NaN | NaN |\n",
       "|  7.1578947 | 3.7894737 | NaN | NaN | NaN | NaN | NaN | NaN | NaN | NaN | ⋯ | NaN | NaN | NaN | NaN | NaN | NaN | NaN | NaN | NaN | NaN |\n",
       "|  8.0000000 | 4.0000000 | NaN | NaN | NaN | NaN | NaN | NaN | NaN | NaN | ⋯ | NaN | NaN | NaN | NaN | NaN | NaN | NaN | NaN | NaN | NaN |\n",
       "\n"
      ],
      "text/plain": [
       "   alpha      beta      X1  X2  X3  X4  X5  X6  X7  X8  ⋯ X11 X12 X13 X14 X15\n",
       "1  -8.0000000 0.0000000 NaN NaN NaN NaN NaN NaN NaN NaN ⋯ NaN NaN NaN NaN NaN\n",
       "2  -7.1578947 0.2105263 NaN NaN NaN NaN NaN NaN NaN NaN ⋯ NaN NaN NaN NaN NaN\n",
       "3  -6.3157895 0.4210526 NaN NaN NaN NaN NaN NaN NaN NaN ⋯ NaN NaN NaN NaN NaN\n",
       "4  -5.4736842 0.6315789 NaN NaN NaN NaN NaN NaN NaN NaN ⋯ NaN NaN NaN NaN NaN\n",
       "5  -4.6315789 0.8421053 NaN NaN NaN NaN NaN NaN NaN NaN ⋯ NaN NaN NaN NaN NaN\n",
       "6  -3.7894737 1.0526316 NaN NaN NaN NaN NaN NaN NaN NaN ⋯ NaN NaN NaN NaN NaN\n",
       "7  -2.9473684 1.2631579 NaN NaN NaN NaN NaN NaN NaN NaN ⋯ NaN NaN NaN NaN NaN\n",
       "8  -2.1052632 1.4736842 NaN NaN NaN NaN NaN NaN NaN NaN ⋯ NaN NaN NaN NaN NaN\n",
       "9  -1.2631579 1.6842105 NaN NaN NaN NaN NaN NaN NaN NaN ⋯ NaN NaN NaN NaN NaN\n",
       "10 -0.4210526 1.8947368 NaN NaN NaN NaN NaN NaN NaN NaN ⋯ NaN NaN NaN NaN NaN\n",
       "11  0.4210526 2.1052632 NaN NaN NaN NaN NaN NaN NaN NaN ⋯ NaN NaN NaN NaN NaN\n",
       "12  1.2631579 2.3157895 NaN NaN NaN NaN NaN NaN NaN NaN ⋯ NaN NaN NaN NaN NaN\n",
       "13  2.1052632 2.5263158 NaN NaN NaN NaN NaN NaN NaN NaN ⋯ NaN NaN NaN NaN NaN\n",
       "14  2.9473684 2.7368421 NaN NaN NaN NaN NaN NaN NaN NaN ⋯ NaN NaN NaN NaN NaN\n",
       "15  3.7894737 2.9473684 NaN NaN NaN NaN NaN NaN NaN NaN ⋯ NaN NaN NaN NaN NaN\n",
       "16  4.6315789 3.1578947 NaN NaN NaN NaN NaN NaN NaN NaN ⋯ NaN NaN NaN NaN NaN\n",
       "17  5.4736842 3.3684211 NaN NaN NaN NaN NaN NaN NaN NaN ⋯ NaN NaN NaN NaN NaN\n",
       "18  6.3157895 3.5789474 NaN NaN NaN NaN NaN NaN NaN NaN ⋯ NaN NaN NaN NaN NaN\n",
       "19  7.1578947 3.7894737 NaN NaN NaN NaN NaN NaN NaN NaN ⋯ NaN NaN NaN NaN NaN\n",
       "20  8.0000000 4.0000000 NaN NaN NaN NaN NaN NaN NaN NaN ⋯ NaN NaN NaN NaN NaN\n",
       "   X16 X17 X18 X19 X20\n",
       "1  NaN NaN NaN NaN NaN\n",
       "2  NaN NaN NaN NaN NaN\n",
       "3  NaN NaN NaN NaN NaN\n",
       "4  NaN NaN NaN NaN NaN\n",
       "5  NaN NaN NaN NaN NaN\n",
       "6  NaN NaN NaN NaN NaN\n",
       "7  NaN NaN NaN NaN NaN\n",
       "8  NaN NaN NaN NaN NaN\n",
       "9  NaN NaN NaN NaN NaN\n",
       "10 NaN NaN NaN NaN NaN\n",
       "11 NaN NaN NaN NaN NaN\n",
       "12 NaN NaN NaN NaN NaN\n",
       "13 NaN NaN NaN NaN NaN\n",
       "14 NaN NaN NaN NaN NaN\n",
       "15 NaN NaN NaN NaN NaN\n",
       "16 NaN NaN NaN NaN NaN\n",
       "17 NaN NaN NaN NaN NaN\n",
       "18 NaN NaN NaN NaN NaN\n",
       "19 NaN NaN NaN NaN NaN\n",
       "20 NaN NaN NaN NaN NaN"
      ]
     },
     "metadata": {},
     "output_type": "display_data"
    }
   ],
   "source": [
    "values <- posterior(alpha, beta, data)\n",
    "data.frame( %>% colnames() <- )"
   ]
  },
  {
   "cell_type": "code",
   "execution_count": 34,
   "metadata": {
    "vscode": {
     "languageId": "r"
    }
   },
   "outputs": [
    {
     "data": {
      "text/html": [
       "<table class=\"dataframe\">\n",
       "<caption>A matrix: 20 × 20 of type dbl</caption>\n",
       "<tbody>\n",
       "\t<tr><td>0</td><td>4.669443e-05</td><td>0.0001848105</td><td>0.0004086351</td><td>0.0007092408</td><td>0.0010752729</td><td>0.001493868</td><td>0.001951580</td><td>0.002435201</td><td>0.002932417</td><td>0.003432267</td><td>0.003925393</td><td>0.004404141</td><td>0.004862515</td><td>0.005296056</td><td>0.005701657</td><td>0.006077367</td><td>0.006422186</td><td>0.006735873</td><td>0.007018778</td></tr>\n",
       "\t<tr><td>0</td><td>9.027222e-05</td><td>0.0003549236</td><td>0.0007764264</td><td>0.0013285217</td><td>0.0019798136</td><td>0.002697483</td><td>0.003450420</td><td>0.004211395</td><td>0.004958195</td><td>0.005673896</td><td>0.006346528</td><td>0.006968400</td><td>0.007535286</td><td>0.008045630</td><td>0.008499822</td><td>0.008899612</td><td>0.009247637</td><td>0.009547064</td><td>0.009801333</td></tr>\n",
       "\t<tr><td>0</td><td>2.112291e-04</td><td>0.0008171485</td><td>0.0017428268</td><td>0.0028868885</td><td>0.0041448120</td><td>0.005426366</td><td>0.006663994</td><td>0.007813560</td><td>0.008850691</td><td>0.009765633</td><td>0.010558367</td><td>0.011234737</td><td>0.011803684</td><td>0.012275437</td><td>0.012660403</td><td>0.012968541</td><td>0.013209044</td><td>0.013390220</td><td>0.013519470</td></tr>\n",
       "\t<tr><td>0</td><td>7.267535e-04</td><td>0.0026502621</td><td>0.0051954528</td><td>0.0078192816</td><td>0.0101922485</td><td>0.012185282</td><td>0.013788922</td><td>0.015045876</td><td>0.016013116</td><td>0.016745109</td><td>0.017288183</td><td>0.017679781</td><td>0.017949502</td><td>0.018120576</td><td>0.018211247</td><td>0.018235929</td><td>0.018206104</td><td>0.018131010</td><td>0.018018159</td></tr>\n",
       "\t<tr><td>0</td><td>8.288410e-03</td><td>0.0173642070</td><td>0.0217372768</td><td>0.0237768725</td><td>0.0247828519</td><td>0.025284613</td><td>0.025510942</td><td>0.025570795</td><td>0.025521029</td><td>0.025393824</td><td>0.025208774</td><td>0.024978633</td><td>0.024712235</td><td>0.024416058</td><td>0.024095097</td><td>0.023753376</td><td>0.023394256</td><td>0.023020620</td><td>0.022634997</td></tr>\n",
       "\t<tr><td>0</td><td>4.690458e-03</td><td>0.0131886125</td><td>0.0198117408</td><td>0.0239738286</td><td>0.0264721813</td><td>0.027961307</td><td>0.028832905</td><td>0.029310991</td><td>0.029526207</td><td>0.029557752</td><td>0.029455795</td><td>0.029253564</td><td>0.028974046</td><td>0.028633812</td><td>0.028245272</td><td>0.027818047</td><td>0.027359821</td><td>0.026876887</td><td>0.026374506</td></tr>\n",
       "\t<tr><td>0</td><td>9.747194e-04</td><td>0.0036350664</td><td>0.0073450489</td><td>0.0114126958</td><td>0.0153183462</td><td>0.018771504</td><td>0.021662299</td><td>0.023989408</td><td>0.025803744</td><td>0.027174450</td><td>0.028171557</td><td>0.028858547</td><td>0.029290047</td><td>0.029511877</td><td>0.029562017</td><td>0.029471830</td><td>0.029267215</td><td>0.028969613</td><td>0.028596843</td></tr>\n",
       "\t<tr><td>0</td><td>4.857948e-04</td><td>0.0018856538</td><td>0.0040417248</td><td>0.0067334360</td><td>0.0097226759</td><td>0.012791670</td><td>0.015765738</td><td>0.018520860</td><td>0.020980467</td><td>0.023106722</td><td>0.024890353</td><td>0.026341381</td><td>0.027481677</td><td>0.028339499</td><td>0.028945728</td><td>0.029331427</td><td>0.029526351</td><td>0.029558121</td><td>0.029451825</td></tr>\n",
       "\t<tr><td>0</td><td>3.403946e-04</td><td>0.0013365031</td><td>0.0029167964</td><td>0.0049734444</td><td>0.0073764730</td><td>0.009988855</td><td>0.012679811</td><td>0.015334599</td><td>0.017860216</td><td>0.020187376</td><td>0.022269637</td><td>0.024080711</td><td>0.025610879</td><td>0.026863194</td><td>0.027849931</td><td>0.028589530</td><td>0.029104094</td><td>0.029417474</td><td>0.029553844</td></tr>\n",
       "\t<tr><td>0</td><td>2.925661e-04</td><td>0.0011529212</td><td>0.0025309545</td><td>0.0043491933</td><td>0.0065107457</td><td>0.008908473</td><td>0.011434036</td><td>0.013985705</td><td>0.016474207</td><td>0.018826346</td><td>0.020986501</td><td>0.022916379</td><td>0.024593488</td><td>0.026008857</td><td>0.027164402</td><td>0.028070290</td><td>0.028742510</td><td>0.029200773</td><td>0.029466800</td></tr>\n",
       "\t<tr><td>0</td><td>2.957856e-04</td><td>0.0011653244</td><td>0.0025571779</td><td>0.0043919563</td><td>0.0065706181</td><td>0.008984001</td><td>0.011522152</td><td>0.014082299</td><td>0.016574730</td><td>0.018926346</td><td>0.021082034</td><td>0.023004253</td><td>0.024671381</td><td>0.026075302</td><td>0.027218708</td><td>0.028112410</td><td>0.028772894</td><td>0.029220226</td><td>0.029476354</td></tr>\n",
       "\t<tr><td>0</td><td>3.527317e-04</td><td>0.0013836211</td><td>0.0030150334</td><td>0.0051306891</td><td>0.0075917480</td><td>0.010253610</td><td>0.012980294</td><td>0.015654563</td><td>0.018183353</td><td>0.020499124</td><td>0.022558258</td><td>0.024337719</td><td>0.025830971</td><td>0.027043877</td><td>0.027990997</td><td>0.028692485</td><td>0.029171637</td><td>0.029453035</td><td>0.029561228</td></tr>\n",
       "\t<tr><td>0</td><td>5.217106e-04</td><td>0.0020192292</td><td>0.0043087895</td><td>0.0071383511</td><td>0.0102430665</td><td>0.013388993</td><td>0.016396459</td><td>0.019144875</td><td>0.021565789</td><td>0.023630998</td><td>0.025340319</td><td>0.026711295</td><td>0.027771454</td><td>0.028552957</td><td>0.029089125</td><td>0.029412338</td><td>0.029552854</td><td>0.029538241</td><td>0.029393179</td></tr>\n",
       "\t<tr><td>0</td><td>1.124130e-03</td><td>0.0041409096</td><td>0.0082257512</td><td>0.0125462574</td><td>0.0165433740</td><td>0.019955014</td><td>0.022720398</td><td>0.024881472</td><td>0.026518983</td><td>0.027719708</td><td>0.028562681</td><td>0.029115004</td><td>0.029431841</td><td>0.029557940</td><td>0.029529467</td><td>0.029375711</td><td>0.029120508</td><td>0.028783377</td><td>0.028380404</td></tr>\n",
       "\t<tr><td>0</td><td>6.933577e-03</td><td>0.0168910805</td><td>0.0229621316</td><td>0.0261915575</td><td>0.0279219001</td><td>0.028855413</td><td>0.029335097</td><td>0.029535952</td><td>0.029553208</td><td>0.029442189</td><td>0.029237100</td><td>0.028960363</td><td>0.028627506</td><td>0.028249834</td><td>0.027835963</td><td>0.027392721</td><td>0.026925696</td><td>0.026439583</td><td>0.025938404</td></tr>\n",
       "\t<tr><td>0</td><td>5.029572e-03</td><td>0.0128378358</td><td>0.0179880310</td><td>0.0208787760</td><td>0.0224960373</td><td>0.023414547</td><td>0.023929750</td><td>0.024196569</td><td>0.024300506</td><td>0.024291479</td><td>0.024200264</td><td>0.024046843</td><td>0.023844834</td><td>0.023603956</td><td>0.023331447</td><td>0.023032909</td><td>0.022712828</td><td>0.022374908</td><td>0.022022274</td></tr>\n",
       "\t<tr><td>0</td><td>5.886552e-04</td><td>0.0021790173</td><td>0.0043590085</td><td>0.0067028899</td><td>0.0089143989</td><td>0.010846013</td><td>0.012455558</td><td>0.013757323</td><td>0.014788671</td><td>0.015592093</td><td>0.016207203</td><td>0.016667987</td><td>0.017002485</td><td>0.017233411</td><td>0.017379043</td><td>0.017454090</td><td>0.017470439</td><td>0.017437756</td><td>0.017363966</td></tr>\n",
       "\t<tr><td>0</td><td>1.846094e-04</td><td>0.0007166057</td><td>0.0015364269</td><td>0.0025617563</td><td>0.0037050677</td><td>0.004887728</td><td>0.006047845</td><td>0.007142242</td><td>0.008144591</td><td>0.009041817</td><td>0.009830272</td><td>0.010512445</td><td>0.011094449</td><td>0.011584259</td><td>0.011990555</td><td>0.012322012</td><td>0.012586892</td><td>0.012792836</td><td>0.012946783</td></tr>\n",
       "\t<tr><td>0</td><td>8.161251e-05</td><td>0.0003212811</td><td>0.0007042506</td><td>0.0012082383</td><td>0.0018062886</td><td>0.002469793</td><td>0.003171128</td><td>0.003885582</td><td>0.004592473</td><td>0.005275553</td><td>0.005922870</td><td>0.006526305</td><td>0.007080941</td><td>0.007584408</td><td>0.008036261</td><td>0.008437455</td><td>0.008789907</td><td>0.009096153</td><td>0.009359094</td></tr>\n",
       "\t<tr><td>0</td><td>4.303911e-05</td><td>0.0001704456</td><td>0.0003772411</td><td>0.0006556169</td><td>0.0009955853</td><td>0.001385748</td><td>0.001814082</td><td>0.002268655</td><td>0.002738204</td><td>0.003212567</td><td>0.003682931</td><td>0.004141957</td><td>0.004583773</td><td>0.005003887</td><td>0.005399055</td><td>0.005767114</td><td>0.006106805</td><td>0.006417613</td><td>0.006699609</td></tr>\n",
       "</tbody>\n",
       "</table>\n"
      ],
      "text/latex": [
       "A matrix: 20 × 20 of type dbl\n",
       "\\begin{tabular}{llllllllllllllllllll}\n",
       "\t 0 & 4.669443e-05 & 0.0001848105 & 0.0004086351 & 0.0007092408 & 0.0010752729 & 0.001493868 & 0.001951580 & 0.002435201 & 0.002932417 & 0.003432267 & 0.003925393 & 0.004404141 & 0.004862515 & 0.005296056 & 0.005701657 & 0.006077367 & 0.006422186 & 0.006735873 & 0.007018778\\\\\n",
       "\t 0 & 9.027222e-05 & 0.0003549236 & 0.0007764264 & 0.0013285217 & 0.0019798136 & 0.002697483 & 0.003450420 & 0.004211395 & 0.004958195 & 0.005673896 & 0.006346528 & 0.006968400 & 0.007535286 & 0.008045630 & 0.008499822 & 0.008899612 & 0.009247637 & 0.009547064 & 0.009801333\\\\\n",
       "\t 0 & 2.112291e-04 & 0.0008171485 & 0.0017428268 & 0.0028868885 & 0.0041448120 & 0.005426366 & 0.006663994 & 0.007813560 & 0.008850691 & 0.009765633 & 0.010558367 & 0.011234737 & 0.011803684 & 0.012275437 & 0.012660403 & 0.012968541 & 0.013209044 & 0.013390220 & 0.013519470\\\\\n",
       "\t 0 & 7.267535e-04 & 0.0026502621 & 0.0051954528 & 0.0078192816 & 0.0101922485 & 0.012185282 & 0.013788922 & 0.015045876 & 0.016013116 & 0.016745109 & 0.017288183 & 0.017679781 & 0.017949502 & 0.018120576 & 0.018211247 & 0.018235929 & 0.018206104 & 0.018131010 & 0.018018159\\\\\n",
       "\t 0 & 8.288410e-03 & 0.0173642070 & 0.0217372768 & 0.0237768725 & 0.0247828519 & 0.025284613 & 0.025510942 & 0.025570795 & 0.025521029 & 0.025393824 & 0.025208774 & 0.024978633 & 0.024712235 & 0.024416058 & 0.024095097 & 0.023753376 & 0.023394256 & 0.023020620 & 0.022634997\\\\\n",
       "\t 0 & 4.690458e-03 & 0.0131886125 & 0.0198117408 & 0.0239738286 & 0.0264721813 & 0.027961307 & 0.028832905 & 0.029310991 & 0.029526207 & 0.029557752 & 0.029455795 & 0.029253564 & 0.028974046 & 0.028633812 & 0.028245272 & 0.027818047 & 0.027359821 & 0.026876887 & 0.026374506\\\\\n",
       "\t 0 & 9.747194e-04 & 0.0036350664 & 0.0073450489 & 0.0114126958 & 0.0153183462 & 0.018771504 & 0.021662299 & 0.023989408 & 0.025803744 & 0.027174450 & 0.028171557 & 0.028858547 & 0.029290047 & 0.029511877 & 0.029562017 & 0.029471830 & 0.029267215 & 0.028969613 & 0.028596843\\\\\n",
       "\t 0 & 4.857948e-04 & 0.0018856538 & 0.0040417248 & 0.0067334360 & 0.0097226759 & 0.012791670 & 0.015765738 & 0.018520860 & 0.020980467 & 0.023106722 & 0.024890353 & 0.026341381 & 0.027481677 & 0.028339499 & 0.028945728 & 0.029331427 & 0.029526351 & 0.029558121 & 0.029451825\\\\\n",
       "\t 0 & 3.403946e-04 & 0.0013365031 & 0.0029167964 & 0.0049734444 & 0.0073764730 & 0.009988855 & 0.012679811 & 0.015334599 & 0.017860216 & 0.020187376 & 0.022269637 & 0.024080711 & 0.025610879 & 0.026863194 & 0.027849931 & 0.028589530 & 0.029104094 & 0.029417474 & 0.029553844\\\\\n",
       "\t 0 & 2.925661e-04 & 0.0011529212 & 0.0025309545 & 0.0043491933 & 0.0065107457 & 0.008908473 & 0.011434036 & 0.013985705 & 0.016474207 & 0.018826346 & 0.020986501 & 0.022916379 & 0.024593488 & 0.026008857 & 0.027164402 & 0.028070290 & 0.028742510 & 0.029200773 & 0.029466800\\\\\n",
       "\t 0 & 2.957856e-04 & 0.0011653244 & 0.0025571779 & 0.0043919563 & 0.0065706181 & 0.008984001 & 0.011522152 & 0.014082299 & 0.016574730 & 0.018926346 & 0.021082034 & 0.023004253 & 0.024671381 & 0.026075302 & 0.027218708 & 0.028112410 & 0.028772894 & 0.029220226 & 0.029476354\\\\\n",
       "\t 0 & 3.527317e-04 & 0.0013836211 & 0.0030150334 & 0.0051306891 & 0.0075917480 & 0.010253610 & 0.012980294 & 0.015654563 & 0.018183353 & 0.020499124 & 0.022558258 & 0.024337719 & 0.025830971 & 0.027043877 & 0.027990997 & 0.028692485 & 0.029171637 & 0.029453035 & 0.029561228\\\\\n",
       "\t 0 & 5.217106e-04 & 0.0020192292 & 0.0043087895 & 0.0071383511 & 0.0102430665 & 0.013388993 & 0.016396459 & 0.019144875 & 0.021565789 & 0.023630998 & 0.025340319 & 0.026711295 & 0.027771454 & 0.028552957 & 0.029089125 & 0.029412338 & 0.029552854 & 0.029538241 & 0.029393179\\\\\n",
       "\t 0 & 1.124130e-03 & 0.0041409096 & 0.0082257512 & 0.0125462574 & 0.0165433740 & 0.019955014 & 0.022720398 & 0.024881472 & 0.026518983 & 0.027719708 & 0.028562681 & 0.029115004 & 0.029431841 & 0.029557940 & 0.029529467 & 0.029375711 & 0.029120508 & 0.028783377 & 0.028380404\\\\\n",
       "\t 0 & 6.933577e-03 & 0.0168910805 & 0.0229621316 & 0.0261915575 & 0.0279219001 & 0.028855413 & 0.029335097 & 0.029535952 & 0.029553208 & 0.029442189 & 0.029237100 & 0.028960363 & 0.028627506 & 0.028249834 & 0.027835963 & 0.027392721 & 0.026925696 & 0.026439583 & 0.025938404\\\\\n",
       "\t 0 & 5.029572e-03 & 0.0128378358 & 0.0179880310 & 0.0208787760 & 0.0224960373 & 0.023414547 & 0.023929750 & 0.024196569 & 0.024300506 & 0.024291479 & 0.024200264 & 0.024046843 & 0.023844834 & 0.023603956 & 0.023331447 & 0.023032909 & 0.022712828 & 0.022374908 & 0.022022274\\\\\n",
       "\t 0 & 5.886552e-04 & 0.0021790173 & 0.0043590085 & 0.0067028899 & 0.0089143989 & 0.010846013 & 0.012455558 & 0.013757323 & 0.014788671 & 0.015592093 & 0.016207203 & 0.016667987 & 0.017002485 & 0.017233411 & 0.017379043 & 0.017454090 & 0.017470439 & 0.017437756 & 0.017363966\\\\\n",
       "\t 0 & 1.846094e-04 & 0.0007166057 & 0.0015364269 & 0.0025617563 & 0.0037050677 & 0.004887728 & 0.006047845 & 0.007142242 & 0.008144591 & 0.009041817 & 0.009830272 & 0.010512445 & 0.011094449 & 0.011584259 & 0.011990555 & 0.012322012 & 0.012586892 & 0.012792836 & 0.012946783\\\\\n",
       "\t 0 & 8.161251e-05 & 0.0003212811 & 0.0007042506 & 0.0012082383 & 0.0018062886 & 0.002469793 & 0.003171128 & 0.003885582 & 0.004592473 & 0.005275553 & 0.005922870 & 0.006526305 & 0.007080941 & 0.007584408 & 0.008036261 & 0.008437455 & 0.008789907 & 0.009096153 & 0.009359094\\\\\n",
       "\t 0 & 4.303911e-05 & 0.0001704456 & 0.0003772411 & 0.0006556169 & 0.0009955853 & 0.001385748 & 0.001814082 & 0.002268655 & 0.002738204 & 0.003212567 & 0.003682931 & 0.004141957 & 0.004583773 & 0.005003887 & 0.005399055 & 0.005767114 & 0.006106805 & 0.006417613 & 0.006699609\\\\\n",
       "\\end{tabular}\n"
      ],
      "text/markdown": [
       "\n",
       "A matrix: 20 × 20 of type dbl\n",
       "\n",
       "| 0 | 4.669443e-05 | 0.0001848105 | 0.0004086351 | 0.0007092408 | 0.0010752729 | 0.001493868 | 0.001951580 | 0.002435201 | 0.002932417 | 0.003432267 | 0.003925393 | 0.004404141 | 0.004862515 | 0.005296056 | 0.005701657 | 0.006077367 | 0.006422186 | 0.006735873 | 0.007018778 |\n",
       "| 0 | 9.027222e-05 | 0.0003549236 | 0.0007764264 | 0.0013285217 | 0.0019798136 | 0.002697483 | 0.003450420 | 0.004211395 | 0.004958195 | 0.005673896 | 0.006346528 | 0.006968400 | 0.007535286 | 0.008045630 | 0.008499822 | 0.008899612 | 0.009247637 | 0.009547064 | 0.009801333 |\n",
       "| 0 | 2.112291e-04 | 0.0008171485 | 0.0017428268 | 0.0028868885 | 0.0041448120 | 0.005426366 | 0.006663994 | 0.007813560 | 0.008850691 | 0.009765633 | 0.010558367 | 0.011234737 | 0.011803684 | 0.012275437 | 0.012660403 | 0.012968541 | 0.013209044 | 0.013390220 | 0.013519470 |\n",
       "| 0 | 7.267535e-04 | 0.0026502621 | 0.0051954528 | 0.0078192816 | 0.0101922485 | 0.012185282 | 0.013788922 | 0.015045876 | 0.016013116 | 0.016745109 | 0.017288183 | 0.017679781 | 0.017949502 | 0.018120576 | 0.018211247 | 0.018235929 | 0.018206104 | 0.018131010 | 0.018018159 |\n",
       "| 0 | 8.288410e-03 | 0.0173642070 | 0.0217372768 | 0.0237768725 | 0.0247828519 | 0.025284613 | 0.025510942 | 0.025570795 | 0.025521029 | 0.025393824 | 0.025208774 | 0.024978633 | 0.024712235 | 0.024416058 | 0.024095097 | 0.023753376 | 0.023394256 | 0.023020620 | 0.022634997 |\n",
       "| 0 | 4.690458e-03 | 0.0131886125 | 0.0198117408 | 0.0239738286 | 0.0264721813 | 0.027961307 | 0.028832905 | 0.029310991 | 0.029526207 | 0.029557752 | 0.029455795 | 0.029253564 | 0.028974046 | 0.028633812 | 0.028245272 | 0.027818047 | 0.027359821 | 0.026876887 | 0.026374506 |\n",
       "| 0 | 9.747194e-04 | 0.0036350664 | 0.0073450489 | 0.0114126958 | 0.0153183462 | 0.018771504 | 0.021662299 | 0.023989408 | 0.025803744 | 0.027174450 | 0.028171557 | 0.028858547 | 0.029290047 | 0.029511877 | 0.029562017 | 0.029471830 | 0.029267215 | 0.028969613 | 0.028596843 |\n",
       "| 0 | 4.857948e-04 | 0.0018856538 | 0.0040417248 | 0.0067334360 | 0.0097226759 | 0.012791670 | 0.015765738 | 0.018520860 | 0.020980467 | 0.023106722 | 0.024890353 | 0.026341381 | 0.027481677 | 0.028339499 | 0.028945728 | 0.029331427 | 0.029526351 | 0.029558121 | 0.029451825 |\n",
       "| 0 | 3.403946e-04 | 0.0013365031 | 0.0029167964 | 0.0049734444 | 0.0073764730 | 0.009988855 | 0.012679811 | 0.015334599 | 0.017860216 | 0.020187376 | 0.022269637 | 0.024080711 | 0.025610879 | 0.026863194 | 0.027849931 | 0.028589530 | 0.029104094 | 0.029417474 | 0.029553844 |\n",
       "| 0 | 2.925661e-04 | 0.0011529212 | 0.0025309545 | 0.0043491933 | 0.0065107457 | 0.008908473 | 0.011434036 | 0.013985705 | 0.016474207 | 0.018826346 | 0.020986501 | 0.022916379 | 0.024593488 | 0.026008857 | 0.027164402 | 0.028070290 | 0.028742510 | 0.029200773 | 0.029466800 |\n",
       "| 0 | 2.957856e-04 | 0.0011653244 | 0.0025571779 | 0.0043919563 | 0.0065706181 | 0.008984001 | 0.011522152 | 0.014082299 | 0.016574730 | 0.018926346 | 0.021082034 | 0.023004253 | 0.024671381 | 0.026075302 | 0.027218708 | 0.028112410 | 0.028772894 | 0.029220226 | 0.029476354 |\n",
       "| 0 | 3.527317e-04 | 0.0013836211 | 0.0030150334 | 0.0051306891 | 0.0075917480 | 0.010253610 | 0.012980294 | 0.015654563 | 0.018183353 | 0.020499124 | 0.022558258 | 0.024337719 | 0.025830971 | 0.027043877 | 0.027990997 | 0.028692485 | 0.029171637 | 0.029453035 | 0.029561228 |\n",
       "| 0 | 5.217106e-04 | 0.0020192292 | 0.0043087895 | 0.0071383511 | 0.0102430665 | 0.013388993 | 0.016396459 | 0.019144875 | 0.021565789 | 0.023630998 | 0.025340319 | 0.026711295 | 0.027771454 | 0.028552957 | 0.029089125 | 0.029412338 | 0.029552854 | 0.029538241 | 0.029393179 |\n",
       "| 0 | 1.124130e-03 | 0.0041409096 | 0.0082257512 | 0.0125462574 | 0.0165433740 | 0.019955014 | 0.022720398 | 0.024881472 | 0.026518983 | 0.027719708 | 0.028562681 | 0.029115004 | 0.029431841 | 0.029557940 | 0.029529467 | 0.029375711 | 0.029120508 | 0.028783377 | 0.028380404 |\n",
       "| 0 | 6.933577e-03 | 0.0168910805 | 0.0229621316 | 0.0261915575 | 0.0279219001 | 0.028855413 | 0.029335097 | 0.029535952 | 0.029553208 | 0.029442189 | 0.029237100 | 0.028960363 | 0.028627506 | 0.028249834 | 0.027835963 | 0.027392721 | 0.026925696 | 0.026439583 | 0.025938404 |\n",
       "| 0 | 5.029572e-03 | 0.0128378358 | 0.0179880310 | 0.0208787760 | 0.0224960373 | 0.023414547 | 0.023929750 | 0.024196569 | 0.024300506 | 0.024291479 | 0.024200264 | 0.024046843 | 0.023844834 | 0.023603956 | 0.023331447 | 0.023032909 | 0.022712828 | 0.022374908 | 0.022022274 |\n",
       "| 0 | 5.886552e-04 | 0.0021790173 | 0.0043590085 | 0.0067028899 | 0.0089143989 | 0.010846013 | 0.012455558 | 0.013757323 | 0.014788671 | 0.015592093 | 0.016207203 | 0.016667987 | 0.017002485 | 0.017233411 | 0.017379043 | 0.017454090 | 0.017470439 | 0.017437756 | 0.017363966 |\n",
       "| 0 | 1.846094e-04 | 0.0007166057 | 0.0015364269 | 0.0025617563 | 0.0037050677 | 0.004887728 | 0.006047845 | 0.007142242 | 0.008144591 | 0.009041817 | 0.009830272 | 0.010512445 | 0.011094449 | 0.011584259 | 0.011990555 | 0.012322012 | 0.012586892 | 0.012792836 | 0.012946783 |\n",
       "| 0 | 8.161251e-05 | 0.0003212811 | 0.0007042506 | 0.0012082383 | 0.0018062886 | 0.002469793 | 0.003171128 | 0.003885582 | 0.004592473 | 0.005275553 | 0.005922870 | 0.006526305 | 0.007080941 | 0.007584408 | 0.008036261 | 0.008437455 | 0.008789907 | 0.009096153 | 0.009359094 |\n",
       "| 0 | 4.303911e-05 | 0.0001704456 | 0.0003772411 | 0.0006556169 | 0.0009955853 | 0.001385748 | 0.001814082 | 0.002268655 | 0.002738204 | 0.003212567 | 0.003682931 | 0.004141957 | 0.004583773 | 0.005003887 | 0.005399055 | 0.005767114 | 0.006106805 | 0.006417613 | 0.006699609 |\n",
       "\n"
      ],
      "text/plain": [
       "      [,1] [,2]         [,3]         [,4]         [,5]         [,6]        \n",
       " [1,] 0    4.669443e-05 0.0001848105 0.0004086351 0.0007092408 0.0010752729\n",
       " [2,] 0    9.027222e-05 0.0003549236 0.0007764264 0.0013285217 0.0019798136\n",
       " [3,] 0    2.112291e-04 0.0008171485 0.0017428268 0.0028868885 0.0041448120\n",
       " [4,] 0    7.267535e-04 0.0026502621 0.0051954528 0.0078192816 0.0101922485\n",
       " [5,] 0    8.288410e-03 0.0173642070 0.0217372768 0.0237768725 0.0247828519\n",
       " [6,] 0    4.690458e-03 0.0131886125 0.0198117408 0.0239738286 0.0264721813\n",
       " [7,] 0    9.747194e-04 0.0036350664 0.0073450489 0.0114126958 0.0153183462\n",
       " [8,] 0    4.857948e-04 0.0018856538 0.0040417248 0.0067334360 0.0097226759\n",
       " [9,] 0    3.403946e-04 0.0013365031 0.0029167964 0.0049734444 0.0073764730\n",
       "[10,] 0    2.925661e-04 0.0011529212 0.0025309545 0.0043491933 0.0065107457\n",
       "[11,] 0    2.957856e-04 0.0011653244 0.0025571779 0.0043919563 0.0065706181\n",
       "[12,] 0    3.527317e-04 0.0013836211 0.0030150334 0.0051306891 0.0075917480\n",
       "[13,] 0    5.217106e-04 0.0020192292 0.0043087895 0.0071383511 0.0102430665\n",
       "[14,] 0    1.124130e-03 0.0041409096 0.0082257512 0.0125462574 0.0165433740\n",
       "[15,] 0    6.933577e-03 0.0168910805 0.0229621316 0.0261915575 0.0279219001\n",
       "[16,] 0    5.029572e-03 0.0128378358 0.0179880310 0.0208787760 0.0224960373\n",
       "[17,] 0    5.886552e-04 0.0021790173 0.0043590085 0.0067028899 0.0089143989\n",
       "[18,] 0    1.846094e-04 0.0007166057 0.0015364269 0.0025617563 0.0037050677\n",
       "[19,] 0    8.161251e-05 0.0003212811 0.0007042506 0.0012082383 0.0018062886\n",
       "[20,] 0    4.303911e-05 0.0001704456 0.0003772411 0.0006556169 0.0009955853\n",
       "      [,7]        [,8]        [,9]        [,10]       [,11]       [,12]      \n",
       " [1,] 0.001493868 0.001951580 0.002435201 0.002932417 0.003432267 0.003925393\n",
       " [2,] 0.002697483 0.003450420 0.004211395 0.004958195 0.005673896 0.006346528\n",
       " [3,] 0.005426366 0.006663994 0.007813560 0.008850691 0.009765633 0.010558367\n",
       " [4,] 0.012185282 0.013788922 0.015045876 0.016013116 0.016745109 0.017288183\n",
       " [5,] 0.025284613 0.025510942 0.025570795 0.025521029 0.025393824 0.025208774\n",
       " [6,] 0.027961307 0.028832905 0.029310991 0.029526207 0.029557752 0.029455795\n",
       " [7,] 0.018771504 0.021662299 0.023989408 0.025803744 0.027174450 0.028171557\n",
       " [8,] 0.012791670 0.015765738 0.018520860 0.020980467 0.023106722 0.024890353\n",
       " [9,] 0.009988855 0.012679811 0.015334599 0.017860216 0.020187376 0.022269637\n",
       "[10,] 0.008908473 0.011434036 0.013985705 0.016474207 0.018826346 0.020986501\n",
       "[11,] 0.008984001 0.011522152 0.014082299 0.016574730 0.018926346 0.021082034\n",
       "[12,] 0.010253610 0.012980294 0.015654563 0.018183353 0.020499124 0.022558258\n",
       "[13,] 0.013388993 0.016396459 0.019144875 0.021565789 0.023630998 0.025340319\n",
       "[14,] 0.019955014 0.022720398 0.024881472 0.026518983 0.027719708 0.028562681\n",
       "[15,] 0.028855413 0.029335097 0.029535952 0.029553208 0.029442189 0.029237100\n",
       "[16,] 0.023414547 0.023929750 0.024196569 0.024300506 0.024291479 0.024200264\n",
       "[17,] 0.010846013 0.012455558 0.013757323 0.014788671 0.015592093 0.016207203\n",
       "[18,] 0.004887728 0.006047845 0.007142242 0.008144591 0.009041817 0.009830272\n",
       "[19,] 0.002469793 0.003171128 0.003885582 0.004592473 0.005275553 0.005922870\n",
       "[20,] 0.001385748 0.001814082 0.002268655 0.002738204 0.003212567 0.003682931\n",
       "      [,13]       [,14]       [,15]       [,16]       [,17]       [,18]      \n",
       " [1,] 0.004404141 0.004862515 0.005296056 0.005701657 0.006077367 0.006422186\n",
       " [2,] 0.006968400 0.007535286 0.008045630 0.008499822 0.008899612 0.009247637\n",
       " [3,] 0.011234737 0.011803684 0.012275437 0.012660403 0.012968541 0.013209044\n",
       " [4,] 0.017679781 0.017949502 0.018120576 0.018211247 0.018235929 0.018206104\n",
       " [5,] 0.024978633 0.024712235 0.024416058 0.024095097 0.023753376 0.023394256\n",
       " [6,] 0.029253564 0.028974046 0.028633812 0.028245272 0.027818047 0.027359821\n",
       " [7,] 0.028858547 0.029290047 0.029511877 0.029562017 0.029471830 0.029267215\n",
       " [8,] 0.026341381 0.027481677 0.028339499 0.028945728 0.029331427 0.029526351\n",
       " [9,] 0.024080711 0.025610879 0.026863194 0.027849931 0.028589530 0.029104094\n",
       "[10,] 0.022916379 0.024593488 0.026008857 0.027164402 0.028070290 0.028742510\n",
       "[11,] 0.023004253 0.024671381 0.026075302 0.027218708 0.028112410 0.028772894\n",
       "[12,] 0.024337719 0.025830971 0.027043877 0.027990997 0.028692485 0.029171637\n",
       "[13,] 0.026711295 0.027771454 0.028552957 0.029089125 0.029412338 0.029552854\n",
       "[14,] 0.029115004 0.029431841 0.029557940 0.029529467 0.029375711 0.029120508\n",
       "[15,] 0.028960363 0.028627506 0.028249834 0.027835963 0.027392721 0.026925696\n",
       "[16,] 0.024046843 0.023844834 0.023603956 0.023331447 0.023032909 0.022712828\n",
       "[17,] 0.016667987 0.017002485 0.017233411 0.017379043 0.017454090 0.017470439\n",
       "[18,] 0.010512445 0.011094449 0.011584259 0.011990555 0.012322012 0.012586892\n",
       "[19,] 0.006526305 0.007080941 0.007584408 0.008036261 0.008437455 0.008789907\n",
       "[20,] 0.004141957 0.004583773 0.005003887 0.005399055 0.005767114 0.006106805\n",
       "      [,19]       [,20]      \n",
       " [1,] 0.006735873 0.007018778\n",
       " [2,] 0.009547064 0.009801333\n",
       " [3,] 0.013390220 0.013519470\n",
       " [4,] 0.018131010 0.018018159\n",
       " [5,] 0.023020620 0.022634997\n",
       " [6,] 0.026876887 0.026374506\n",
       " [7,] 0.028969613 0.028596843\n",
       " [8,] 0.029558121 0.029451825\n",
       " [9,] 0.029417474 0.029553844\n",
       "[10,] 0.029200773 0.029466800\n",
       "[11,] 0.029220226 0.029476354\n",
       "[12,] 0.029453035 0.029561228\n",
       "[13,] 0.029538241 0.029393179\n",
       "[14,] 0.028783377 0.028380404\n",
       "[15,] 0.026439583 0.025938404\n",
       "[16,] 0.022374908 0.022022274\n",
       "[17,] 0.017437756 0.017363966\n",
       "[18,] 0.012792836 0.012946783\n",
       "[19,] 0.009096153 0.009359094\n",
       "[20,] 0.006417613 0.006699609"
      ]
     },
     "metadata": {},
     "output_type": "display_data"
    }
   ],
   "source": [
    "alpha <- seq(alpha.min, alpha.max, length.out=20)\n",
    "beta <- seq(beta.min, beta.max, length.out=20)\n",
    "\n",
    "posterior(alpha, beta, data)"
   ]
  },
  {
   "cell_type": "code",
   "execution_count": 76,
   "metadata": {
    "vscode": {
     "languageId": "r"
    }
   },
   "outputs": [
    {
     "data": {
      "text/html": [
       "<table class=\"dataframe\">\n",
       "<caption>A tibble: 400 × 3</caption>\n",
       "<thead>\n",
       "\t<tr><th scope=col>alpha</th><th scope=col>beta</th><th scope=col>post</th></tr>\n",
       "\t<tr><th scope=col>&lt;dbl&gt;</th><th scope=col>&lt;dbl&gt;</th><th scope=col>&lt;dbl&gt;</th></tr>\n",
       "</thead>\n",
       "<tbody>\n",
       "\t<tr><td>-8.000000</td><td>0.0000000</td><td>0.000000e+00</td></tr>\n",
       "\t<tr><td>-8.000000</td><td>0.2105263</td><td>4.669443e-05</td></tr>\n",
       "\t<tr><td>-8.000000</td><td>0.4210526</td><td>1.848105e-04</td></tr>\n",
       "\t<tr><td>-8.000000</td><td>0.6315789</td><td>4.086351e-04</td></tr>\n",
       "\t<tr><td>-8.000000</td><td>0.8421053</td><td>7.092408e-04</td></tr>\n",
       "\t<tr><td>-8.000000</td><td>1.0526316</td><td>1.075273e-03</td></tr>\n",
       "\t<tr><td>-8.000000</td><td>1.2631579</td><td>1.493868e-03</td></tr>\n",
       "\t<tr><td>-8.000000</td><td>1.4736842</td><td>1.951580e-03</td></tr>\n",
       "\t<tr><td>-8.000000</td><td>1.6842105</td><td>2.435201e-03</td></tr>\n",
       "\t<tr><td>-8.000000</td><td>1.8947368</td><td>2.932417e-03</td></tr>\n",
       "\t<tr><td>-8.000000</td><td>2.1052632</td><td>3.432267e-03</td></tr>\n",
       "\t<tr><td>-8.000000</td><td>2.3157895</td><td>3.925393e-03</td></tr>\n",
       "\t<tr><td>-8.000000</td><td>2.5263158</td><td>4.404141e-03</td></tr>\n",
       "\t<tr><td>-8.000000</td><td>2.7368421</td><td>4.862515e-03</td></tr>\n",
       "\t<tr><td>-8.000000</td><td>2.9473684</td><td>5.296056e-03</td></tr>\n",
       "\t<tr><td>-8.000000</td><td>3.1578947</td><td>5.701657e-03</td></tr>\n",
       "\t<tr><td>-8.000000</td><td>3.3684211</td><td>6.077367e-03</td></tr>\n",
       "\t<tr><td>-8.000000</td><td>3.5789474</td><td>6.422186e-03</td></tr>\n",
       "\t<tr><td>-8.000000</td><td>3.7894737</td><td>6.735873e-03</td></tr>\n",
       "\t<tr><td>-8.000000</td><td>4.0000000</td><td>7.018778e-03</td></tr>\n",
       "\t<tr><td>-7.157895</td><td>0.0000000</td><td>0.000000e+00</td></tr>\n",
       "\t<tr><td>-7.157895</td><td>0.2105263</td><td>9.027222e-05</td></tr>\n",
       "\t<tr><td>-7.157895</td><td>0.4210526</td><td>3.549236e-04</td></tr>\n",
       "\t<tr><td>-7.157895</td><td>0.6315789</td><td>7.764264e-04</td></tr>\n",
       "\t<tr><td>-7.157895</td><td>0.8421053</td><td>1.328522e-03</td></tr>\n",
       "\t<tr><td>-7.157895</td><td>1.0526316</td><td>1.979814e-03</td></tr>\n",
       "\t<tr><td>-7.157895</td><td>1.2631579</td><td>2.697483e-03</td></tr>\n",
       "\t<tr><td>-7.157895</td><td>1.4736842</td><td>3.450420e-03</td></tr>\n",
       "\t<tr><td>-7.157895</td><td>1.6842105</td><td>4.211395e-03</td></tr>\n",
       "\t<tr><td>-7.157895</td><td>1.8947368</td><td>4.958195e-03</td></tr>\n",
       "\t<tr><td>⋮</td><td>⋮</td><td>⋮</td></tr>\n",
       "\t<tr><td>7.157895</td><td>2.1052632</td><td>5.275553e-03</td></tr>\n",
       "\t<tr><td>7.157895</td><td>2.3157895</td><td>5.922870e-03</td></tr>\n",
       "\t<tr><td>7.157895</td><td>2.5263158</td><td>6.526305e-03</td></tr>\n",
       "\t<tr><td>7.157895</td><td>2.7368421</td><td>7.080941e-03</td></tr>\n",
       "\t<tr><td>7.157895</td><td>2.9473684</td><td>7.584408e-03</td></tr>\n",
       "\t<tr><td>7.157895</td><td>3.1578947</td><td>8.036261e-03</td></tr>\n",
       "\t<tr><td>7.157895</td><td>3.3684211</td><td>8.437455e-03</td></tr>\n",
       "\t<tr><td>7.157895</td><td>3.5789474</td><td>8.789907e-03</td></tr>\n",
       "\t<tr><td>7.157895</td><td>3.7894737</td><td>9.096153e-03</td></tr>\n",
       "\t<tr><td>7.157895</td><td>4.0000000</td><td>9.359094e-03</td></tr>\n",
       "\t<tr><td>8.000000</td><td>0.0000000</td><td>0.000000e+00</td></tr>\n",
       "\t<tr><td>8.000000</td><td>0.2105263</td><td>4.303911e-05</td></tr>\n",
       "\t<tr><td>8.000000</td><td>0.4210526</td><td>1.704456e-04</td></tr>\n",
       "\t<tr><td>8.000000</td><td>0.6315789</td><td>3.772411e-04</td></tr>\n",
       "\t<tr><td>8.000000</td><td>0.8421053</td><td>6.556169e-04</td></tr>\n",
       "\t<tr><td>8.000000</td><td>1.0526316</td><td>9.955853e-04</td></tr>\n",
       "\t<tr><td>8.000000</td><td>1.2631579</td><td>1.385748e-03</td></tr>\n",
       "\t<tr><td>8.000000</td><td>1.4736842</td><td>1.814082e-03</td></tr>\n",
       "\t<tr><td>8.000000</td><td>1.6842105</td><td>2.268655e-03</td></tr>\n",
       "\t<tr><td>8.000000</td><td>1.8947368</td><td>2.738204e-03</td></tr>\n",
       "\t<tr><td>8.000000</td><td>2.1052632</td><td>3.212567e-03</td></tr>\n",
       "\t<tr><td>8.000000</td><td>2.3157895</td><td>3.682931e-03</td></tr>\n",
       "\t<tr><td>8.000000</td><td>2.5263158</td><td>4.141957e-03</td></tr>\n",
       "\t<tr><td>8.000000</td><td>2.7368421</td><td>4.583773e-03</td></tr>\n",
       "\t<tr><td>8.000000</td><td>2.9473684</td><td>5.003887e-03</td></tr>\n",
       "\t<tr><td>8.000000</td><td>3.1578947</td><td>5.399055e-03</td></tr>\n",
       "\t<tr><td>8.000000</td><td>3.3684211</td><td>5.767114e-03</td></tr>\n",
       "\t<tr><td>8.000000</td><td>3.5789474</td><td>6.106805e-03</td></tr>\n",
       "\t<tr><td>8.000000</td><td>3.7894737</td><td>6.417613e-03</td></tr>\n",
       "\t<tr><td>8.000000</td><td>4.0000000</td><td>6.699609e-03</td></tr>\n",
       "</tbody>\n",
       "</table>\n"
      ],
      "text/latex": [
       "A tibble: 400 × 3\n",
       "\\begin{tabular}{lll}\n",
       " alpha & beta & post\\\\\n",
       " <dbl> & <dbl> & <dbl>\\\\\n",
       "\\hline\n",
       "\t -8.000000 & 0.0000000 & 0.000000e+00\\\\\n",
       "\t -8.000000 & 0.2105263 & 4.669443e-05\\\\\n",
       "\t -8.000000 & 0.4210526 & 1.848105e-04\\\\\n",
       "\t -8.000000 & 0.6315789 & 4.086351e-04\\\\\n",
       "\t -8.000000 & 0.8421053 & 7.092408e-04\\\\\n",
       "\t -8.000000 & 1.0526316 & 1.075273e-03\\\\\n",
       "\t -8.000000 & 1.2631579 & 1.493868e-03\\\\\n",
       "\t -8.000000 & 1.4736842 & 1.951580e-03\\\\\n",
       "\t -8.000000 & 1.6842105 & 2.435201e-03\\\\\n",
       "\t -8.000000 & 1.8947368 & 2.932417e-03\\\\\n",
       "\t -8.000000 & 2.1052632 & 3.432267e-03\\\\\n",
       "\t -8.000000 & 2.3157895 & 3.925393e-03\\\\\n",
       "\t -8.000000 & 2.5263158 & 4.404141e-03\\\\\n",
       "\t -8.000000 & 2.7368421 & 4.862515e-03\\\\\n",
       "\t -8.000000 & 2.9473684 & 5.296056e-03\\\\\n",
       "\t -8.000000 & 3.1578947 & 5.701657e-03\\\\\n",
       "\t -8.000000 & 3.3684211 & 6.077367e-03\\\\\n",
       "\t -8.000000 & 3.5789474 & 6.422186e-03\\\\\n",
       "\t -8.000000 & 3.7894737 & 6.735873e-03\\\\\n",
       "\t -8.000000 & 4.0000000 & 7.018778e-03\\\\\n",
       "\t -7.157895 & 0.0000000 & 0.000000e+00\\\\\n",
       "\t -7.157895 & 0.2105263 & 9.027222e-05\\\\\n",
       "\t -7.157895 & 0.4210526 & 3.549236e-04\\\\\n",
       "\t -7.157895 & 0.6315789 & 7.764264e-04\\\\\n",
       "\t -7.157895 & 0.8421053 & 1.328522e-03\\\\\n",
       "\t -7.157895 & 1.0526316 & 1.979814e-03\\\\\n",
       "\t -7.157895 & 1.2631579 & 2.697483e-03\\\\\n",
       "\t -7.157895 & 1.4736842 & 3.450420e-03\\\\\n",
       "\t -7.157895 & 1.6842105 & 4.211395e-03\\\\\n",
       "\t -7.157895 & 1.8947368 & 4.958195e-03\\\\\n",
       "\t ⋮ & ⋮ & ⋮\\\\\n",
       "\t 7.157895 & 2.1052632 & 5.275553e-03\\\\\n",
       "\t 7.157895 & 2.3157895 & 5.922870e-03\\\\\n",
       "\t 7.157895 & 2.5263158 & 6.526305e-03\\\\\n",
       "\t 7.157895 & 2.7368421 & 7.080941e-03\\\\\n",
       "\t 7.157895 & 2.9473684 & 7.584408e-03\\\\\n",
       "\t 7.157895 & 3.1578947 & 8.036261e-03\\\\\n",
       "\t 7.157895 & 3.3684211 & 8.437455e-03\\\\\n",
       "\t 7.157895 & 3.5789474 & 8.789907e-03\\\\\n",
       "\t 7.157895 & 3.7894737 & 9.096153e-03\\\\\n",
       "\t 7.157895 & 4.0000000 & 9.359094e-03\\\\\n",
       "\t 8.000000 & 0.0000000 & 0.000000e+00\\\\\n",
       "\t 8.000000 & 0.2105263 & 4.303911e-05\\\\\n",
       "\t 8.000000 & 0.4210526 & 1.704456e-04\\\\\n",
       "\t 8.000000 & 0.6315789 & 3.772411e-04\\\\\n",
       "\t 8.000000 & 0.8421053 & 6.556169e-04\\\\\n",
       "\t 8.000000 & 1.0526316 & 9.955853e-04\\\\\n",
       "\t 8.000000 & 1.2631579 & 1.385748e-03\\\\\n",
       "\t 8.000000 & 1.4736842 & 1.814082e-03\\\\\n",
       "\t 8.000000 & 1.6842105 & 2.268655e-03\\\\\n",
       "\t 8.000000 & 1.8947368 & 2.738204e-03\\\\\n",
       "\t 8.000000 & 2.1052632 & 3.212567e-03\\\\\n",
       "\t 8.000000 & 2.3157895 & 3.682931e-03\\\\\n",
       "\t 8.000000 & 2.5263158 & 4.141957e-03\\\\\n",
       "\t 8.000000 & 2.7368421 & 4.583773e-03\\\\\n",
       "\t 8.000000 & 2.9473684 & 5.003887e-03\\\\\n",
       "\t 8.000000 & 3.1578947 & 5.399055e-03\\\\\n",
       "\t 8.000000 & 3.3684211 & 5.767114e-03\\\\\n",
       "\t 8.000000 & 3.5789474 & 6.106805e-03\\\\\n",
       "\t 8.000000 & 3.7894737 & 6.417613e-03\\\\\n",
       "\t 8.000000 & 4.0000000 & 6.699609e-03\\\\\n",
       "\\end{tabular}\n"
      ],
      "text/markdown": [
       "\n",
       "A tibble: 400 × 3\n",
       "\n",
       "| alpha &lt;dbl&gt; | beta &lt;dbl&gt; | post &lt;dbl&gt; |\n",
       "|---|---|---|\n",
       "| -8.000000 | 0.0000000 | 0.000000e+00 |\n",
       "| -8.000000 | 0.2105263 | 4.669443e-05 |\n",
       "| -8.000000 | 0.4210526 | 1.848105e-04 |\n",
       "| -8.000000 | 0.6315789 | 4.086351e-04 |\n",
       "| -8.000000 | 0.8421053 | 7.092408e-04 |\n",
       "| -8.000000 | 1.0526316 | 1.075273e-03 |\n",
       "| -8.000000 | 1.2631579 | 1.493868e-03 |\n",
       "| -8.000000 | 1.4736842 | 1.951580e-03 |\n",
       "| -8.000000 | 1.6842105 | 2.435201e-03 |\n",
       "| -8.000000 | 1.8947368 | 2.932417e-03 |\n",
       "| -8.000000 | 2.1052632 | 3.432267e-03 |\n",
       "| -8.000000 | 2.3157895 | 3.925393e-03 |\n",
       "| -8.000000 | 2.5263158 | 4.404141e-03 |\n",
       "| -8.000000 | 2.7368421 | 4.862515e-03 |\n",
       "| -8.000000 | 2.9473684 | 5.296056e-03 |\n",
       "| -8.000000 | 3.1578947 | 5.701657e-03 |\n",
       "| -8.000000 | 3.3684211 | 6.077367e-03 |\n",
       "| -8.000000 | 3.5789474 | 6.422186e-03 |\n",
       "| -8.000000 | 3.7894737 | 6.735873e-03 |\n",
       "| -8.000000 | 4.0000000 | 7.018778e-03 |\n",
       "| -7.157895 | 0.0000000 | 0.000000e+00 |\n",
       "| -7.157895 | 0.2105263 | 9.027222e-05 |\n",
       "| -7.157895 | 0.4210526 | 3.549236e-04 |\n",
       "| -7.157895 | 0.6315789 | 7.764264e-04 |\n",
       "| -7.157895 | 0.8421053 | 1.328522e-03 |\n",
       "| -7.157895 | 1.0526316 | 1.979814e-03 |\n",
       "| -7.157895 | 1.2631579 | 2.697483e-03 |\n",
       "| -7.157895 | 1.4736842 | 3.450420e-03 |\n",
       "| -7.157895 | 1.6842105 | 4.211395e-03 |\n",
       "| -7.157895 | 1.8947368 | 4.958195e-03 |\n",
       "| ⋮ | ⋮ | ⋮ |\n",
       "| 7.157895 | 2.1052632 | 5.275553e-03 |\n",
       "| 7.157895 | 2.3157895 | 5.922870e-03 |\n",
       "| 7.157895 | 2.5263158 | 6.526305e-03 |\n",
       "| 7.157895 | 2.7368421 | 7.080941e-03 |\n",
       "| 7.157895 | 2.9473684 | 7.584408e-03 |\n",
       "| 7.157895 | 3.1578947 | 8.036261e-03 |\n",
       "| 7.157895 | 3.3684211 | 8.437455e-03 |\n",
       "| 7.157895 | 3.5789474 | 8.789907e-03 |\n",
       "| 7.157895 | 3.7894737 | 9.096153e-03 |\n",
       "| 7.157895 | 4.0000000 | 9.359094e-03 |\n",
       "| 8.000000 | 0.0000000 | 0.000000e+00 |\n",
       "| 8.000000 | 0.2105263 | 4.303911e-05 |\n",
       "| 8.000000 | 0.4210526 | 1.704456e-04 |\n",
       "| 8.000000 | 0.6315789 | 3.772411e-04 |\n",
       "| 8.000000 | 0.8421053 | 6.556169e-04 |\n",
       "| 8.000000 | 1.0526316 | 9.955853e-04 |\n",
       "| 8.000000 | 1.2631579 | 1.385748e-03 |\n",
       "| 8.000000 | 1.4736842 | 1.814082e-03 |\n",
       "| 8.000000 | 1.6842105 | 2.268655e-03 |\n",
       "| 8.000000 | 1.8947368 | 2.738204e-03 |\n",
       "| 8.000000 | 2.1052632 | 3.212567e-03 |\n",
       "| 8.000000 | 2.3157895 | 3.682931e-03 |\n",
       "| 8.000000 | 2.5263158 | 4.141957e-03 |\n",
       "| 8.000000 | 2.7368421 | 4.583773e-03 |\n",
       "| 8.000000 | 2.9473684 | 5.003887e-03 |\n",
       "| 8.000000 | 3.1578947 | 5.399055e-03 |\n",
       "| 8.000000 | 3.3684211 | 5.767114e-03 |\n",
       "| 8.000000 | 3.5789474 | 6.106805e-03 |\n",
       "| 8.000000 | 3.7894737 | 6.417613e-03 |\n",
       "| 8.000000 | 4.0000000 | 6.699609e-03 |\n",
       "\n"
      ],
      "text/plain": [
       "    alpha     beta      post        \n",
       "1   -8.000000 0.0000000 0.000000e+00\n",
       "2   -8.000000 0.2105263 4.669443e-05\n",
       "3   -8.000000 0.4210526 1.848105e-04\n",
       "4   -8.000000 0.6315789 4.086351e-04\n",
       "5   -8.000000 0.8421053 7.092408e-04\n",
       "6   -8.000000 1.0526316 1.075273e-03\n",
       "7   -8.000000 1.2631579 1.493868e-03\n",
       "8   -8.000000 1.4736842 1.951580e-03\n",
       "9   -8.000000 1.6842105 2.435201e-03\n",
       "10  -8.000000 1.8947368 2.932417e-03\n",
       "11  -8.000000 2.1052632 3.432267e-03\n",
       "12  -8.000000 2.3157895 3.925393e-03\n",
       "13  -8.000000 2.5263158 4.404141e-03\n",
       "14  -8.000000 2.7368421 4.862515e-03\n",
       "15  -8.000000 2.9473684 5.296056e-03\n",
       "16  -8.000000 3.1578947 5.701657e-03\n",
       "17  -8.000000 3.3684211 6.077367e-03\n",
       "18  -8.000000 3.5789474 6.422186e-03\n",
       "19  -8.000000 3.7894737 6.735873e-03\n",
       "20  -8.000000 4.0000000 7.018778e-03\n",
       "21  -7.157895 0.0000000 0.000000e+00\n",
       "22  -7.157895 0.2105263 9.027222e-05\n",
       "23  -7.157895 0.4210526 3.549236e-04\n",
       "24  -7.157895 0.6315789 7.764264e-04\n",
       "25  -7.157895 0.8421053 1.328522e-03\n",
       "26  -7.157895 1.0526316 1.979814e-03\n",
       "27  -7.157895 1.2631579 2.697483e-03\n",
       "28  -7.157895 1.4736842 3.450420e-03\n",
       "29  -7.157895 1.6842105 4.211395e-03\n",
       "30  -7.157895 1.8947368 4.958195e-03\n",
       "⋮   ⋮         ⋮         ⋮           \n",
       "371 7.157895  2.1052632 5.275553e-03\n",
       "372 7.157895  2.3157895 5.922870e-03\n",
       "373 7.157895  2.5263158 6.526305e-03\n",
       "374 7.157895  2.7368421 7.080941e-03\n",
       "375 7.157895  2.9473684 7.584408e-03\n",
       "376 7.157895  3.1578947 8.036261e-03\n",
       "377 7.157895  3.3684211 8.437455e-03\n",
       "378 7.157895  3.5789474 8.789907e-03\n",
       "379 7.157895  3.7894737 9.096153e-03\n",
       "380 7.157895  4.0000000 9.359094e-03\n",
       "381 8.000000  0.0000000 0.000000e+00\n",
       "382 8.000000  0.2105263 4.303911e-05\n",
       "383 8.000000  0.4210526 1.704456e-04\n",
       "384 8.000000  0.6315789 3.772411e-04\n",
       "385 8.000000  0.8421053 6.556169e-04\n",
       "386 8.000000  1.0526316 9.955853e-04\n",
       "387 8.000000  1.2631579 1.385748e-03\n",
       "388 8.000000  1.4736842 1.814082e-03\n",
       "389 8.000000  1.6842105 2.268655e-03\n",
       "390 8.000000  1.8947368 2.738204e-03\n",
       "391 8.000000  2.1052632 3.212567e-03\n",
       "392 8.000000  2.3157895 3.682931e-03\n",
       "393 8.000000  2.5263158 4.141957e-03\n",
       "394 8.000000  2.7368421 4.583773e-03\n",
       "395 8.000000  2.9473684 5.003887e-03\n",
       "396 8.000000  3.1578947 5.399055e-03\n",
       "397 8.000000  3.3684211 5.767114e-03\n",
       "398 8.000000  3.5789474 6.106805e-03\n",
       "399 8.000000  3.7894737 6.417613e-03\n",
       "400 8.000000  4.0000000 6.699609e-03"
      ]
     },
     "metadata": {},
     "output_type": "display_data"
    }
   ],
   "source": [
    "z <- posterior(alpha, beta, data)\n",
    "colnames(z) <- beta\n",
    "#rownames(z) <- alpha\n",
    "data.frame(z) %>% cbind(alpha) %>% \n",
    "  pivot_longer(names_to='beta', values_to='post', -alpha) %>% mutate(beta=as.numeric(str_replace(beta, \"X\", \"\"))) "
   ]
  },
  {
   "cell_type": "code",
   "execution_count": 75,
   "metadata": {
    "vscode": {
     "languageId": "r"
    }
   },
   "outputs": [
    {
     "data": {
      "text/html": [
       "0.258"
      ],
      "text/latex": [
       "0.258"
      ],
      "text/markdown": [
       "0.258"
      ],
      "text/plain": [
       "[1] 0.258"
      ]
     },
     "metadata": {},
     "output_type": "display_data"
    }
   ],
   "source": [
    "x <- 'X0.258'\n",
    "as.numeric(str_replace(x, \"X\", \"\"))"
   ]
  },
  {
   "cell_type": "code",
   "execution_count": null,
   "metadata": {
    "vscode": {
     "languageId": "r"
    }
   },
   "outputs": [],
   "source": []
  }
 ],
 "metadata": {
  "kernelspec": {
   "display_name": "R",
   "language": "R",
   "name": "ir"
  },
  "language_info": {
   "codemirror_mode": "r",
   "file_extension": ".r",
   "mimetype": "text/x-r-source",
   "name": "R",
   "pygments_lexer": "r",
   "version": "4.2.0"
  },
  "orig_nbformat": 4
 },
 "nbformat": 4,
 "nbformat_minor": 2
}
